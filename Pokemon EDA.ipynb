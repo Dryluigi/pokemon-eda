{
 "cells": [
  {
   "cell_type": "markdown",
   "id": "raised-receipt",
   "metadata": {},
   "source": [
    "# Eksplorasi Data Pokemon"
   ]
  },
  {
   "cell_type": "markdown",
   "id": "confused-potential",
   "metadata": {},
   "source": [
    "## Import Libraries"
   ]
  },
  {
   "cell_type": "code",
   "execution_count": 1,
   "id": "identified-lithuania",
   "metadata": {},
   "outputs": [],
   "source": [
    "import pandas as pd\n",
    "import numpy as np\n",
    "import matplotlib.pyplot as plt\n",
    "import seaborn as sns\n",
    "from IPython.display import display\n",
    "%matplotlib inline"
   ]
  },
  {
   "cell_type": "markdown",
   "id": "backed-blogger",
   "metadata": {},
   "source": [
    "## Inspeksi Data"
   ]
  },
  {
   "cell_type": "markdown",
   "id": "fantastic-timber",
   "metadata": {},
   "source": [
    "Dataset Pokemon ini didapat dari situs Kaggle. Dataset dapat diunduh pada tautan berikut ini: <br>\n",
    "<a href=\"https://www.kaggle.com/rounakbanik/pokemon\">https://www.kaggle.com/rounakbanik/pokemon</a>"
   ]
  },
  {
   "cell_type": "code",
   "execution_count": 2,
   "id": "divided-violin",
   "metadata": {},
   "outputs": [
    {
     "data": {
      "text/html": [
       "<div>\n",
       "<style scoped>\n",
       "    .dataframe tbody tr th:only-of-type {\n",
       "        vertical-align: middle;\n",
       "    }\n",
       "\n",
       "    .dataframe tbody tr th {\n",
       "        vertical-align: top;\n",
       "    }\n",
       "\n",
       "    .dataframe thead th {\n",
       "        text-align: right;\n",
       "    }\n",
       "</style>\n",
       "<table border=\"1\" class=\"dataframe\">\n",
       "  <thead>\n",
       "    <tr style=\"text-align: right;\">\n",
       "      <th></th>\n",
       "      <th>abilities</th>\n",
       "      <th>against_bug</th>\n",
       "      <th>against_dark</th>\n",
       "      <th>against_dragon</th>\n",
       "      <th>against_electric</th>\n",
       "      <th>against_fairy</th>\n",
       "      <th>against_fight</th>\n",
       "      <th>against_fire</th>\n",
       "      <th>against_flying</th>\n",
       "      <th>against_ghost</th>\n",
       "      <th>...</th>\n",
       "      <th>percentage_male</th>\n",
       "      <th>pokedex_number</th>\n",
       "      <th>sp_attack</th>\n",
       "      <th>sp_defense</th>\n",
       "      <th>speed</th>\n",
       "      <th>type1</th>\n",
       "      <th>type2</th>\n",
       "      <th>weight_kg</th>\n",
       "      <th>generation</th>\n",
       "      <th>is_legendary</th>\n",
       "    </tr>\n",
       "  </thead>\n",
       "  <tbody>\n",
       "    <tr>\n",
       "      <th>0</th>\n",
       "      <td>['Overgrow', 'Chlorophyll']</td>\n",
       "      <td>1.0</td>\n",
       "      <td>1.0</td>\n",
       "      <td>1.0</td>\n",
       "      <td>0.5</td>\n",
       "      <td>0.5</td>\n",
       "      <td>0.5</td>\n",
       "      <td>2.0</td>\n",
       "      <td>2.0</td>\n",
       "      <td>1.0</td>\n",
       "      <td>...</td>\n",
       "      <td>88.1</td>\n",
       "      <td>1</td>\n",
       "      <td>65</td>\n",
       "      <td>65</td>\n",
       "      <td>45</td>\n",
       "      <td>grass</td>\n",
       "      <td>poison</td>\n",
       "      <td>6.9</td>\n",
       "      <td>1</td>\n",
       "      <td>0</td>\n",
       "    </tr>\n",
       "    <tr>\n",
       "      <th>1</th>\n",
       "      <td>['Overgrow', 'Chlorophyll']</td>\n",
       "      <td>1.0</td>\n",
       "      <td>1.0</td>\n",
       "      <td>1.0</td>\n",
       "      <td>0.5</td>\n",
       "      <td>0.5</td>\n",
       "      <td>0.5</td>\n",
       "      <td>2.0</td>\n",
       "      <td>2.0</td>\n",
       "      <td>1.0</td>\n",
       "      <td>...</td>\n",
       "      <td>88.1</td>\n",
       "      <td>2</td>\n",
       "      <td>80</td>\n",
       "      <td>80</td>\n",
       "      <td>60</td>\n",
       "      <td>grass</td>\n",
       "      <td>poison</td>\n",
       "      <td>13.0</td>\n",
       "      <td>1</td>\n",
       "      <td>0</td>\n",
       "    </tr>\n",
       "    <tr>\n",
       "      <th>2</th>\n",
       "      <td>['Overgrow', 'Chlorophyll']</td>\n",
       "      <td>1.0</td>\n",
       "      <td>1.0</td>\n",
       "      <td>1.0</td>\n",
       "      <td>0.5</td>\n",
       "      <td>0.5</td>\n",
       "      <td>0.5</td>\n",
       "      <td>2.0</td>\n",
       "      <td>2.0</td>\n",
       "      <td>1.0</td>\n",
       "      <td>...</td>\n",
       "      <td>88.1</td>\n",
       "      <td>3</td>\n",
       "      <td>122</td>\n",
       "      <td>120</td>\n",
       "      <td>80</td>\n",
       "      <td>grass</td>\n",
       "      <td>poison</td>\n",
       "      <td>100.0</td>\n",
       "      <td>1</td>\n",
       "      <td>0</td>\n",
       "    </tr>\n",
       "    <tr>\n",
       "      <th>3</th>\n",
       "      <td>['Blaze', 'Solar Power']</td>\n",
       "      <td>0.5</td>\n",
       "      <td>1.0</td>\n",
       "      <td>1.0</td>\n",
       "      <td>1.0</td>\n",
       "      <td>0.5</td>\n",
       "      <td>1.0</td>\n",
       "      <td>0.5</td>\n",
       "      <td>1.0</td>\n",
       "      <td>1.0</td>\n",
       "      <td>...</td>\n",
       "      <td>88.1</td>\n",
       "      <td>4</td>\n",
       "      <td>60</td>\n",
       "      <td>50</td>\n",
       "      <td>65</td>\n",
       "      <td>fire</td>\n",
       "      <td>NaN</td>\n",
       "      <td>8.5</td>\n",
       "      <td>1</td>\n",
       "      <td>0</td>\n",
       "    </tr>\n",
       "    <tr>\n",
       "      <th>4</th>\n",
       "      <td>['Blaze', 'Solar Power']</td>\n",
       "      <td>0.5</td>\n",
       "      <td>1.0</td>\n",
       "      <td>1.0</td>\n",
       "      <td>1.0</td>\n",
       "      <td>0.5</td>\n",
       "      <td>1.0</td>\n",
       "      <td>0.5</td>\n",
       "      <td>1.0</td>\n",
       "      <td>1.0</td>\n",
       "      <td>...</td>\n",
       "      <td>88.1</td>\n",
       "      <td>5</td>\n",
       "      <td>80</td>\n",
       "      <td>65</td>\n",
       "      <td>80</td>\n",
       "      <td>fire</td>\n",
       "      <td>NaN</td>\n",
       "      <td>19.0</td>\n",
       "      <td>1</td>\n",
       "      <td>0</td>\n",
       "    </tr>\n",
       "  </tbody>\n",
       "</table>\n",
       "<p>5 rows × 41 columns</p>\n",
       "</div>"
      ],
      "text/plain": [
       "                     abilities  against_bug  against_dark  against_dragon  \\\n",
       "0  ['Overgrow', 'Chlorophyll']          1.0           1.0             1.0   \n",
       "1  ['Overgrow', 'Chlorophyll']          1.0           1.0             1.0   \n",
       "2  ['Overgrow', 'Chlorophyll']          1.0           1.0             1.0   \n",
       "3     ['Blaze', 'Solar Power']          0.5           1.0             1.0   \n",
       "4     ['Blaze', 'Solar Power']          0.5           1.0             1.0   \n",
       "\n",
       "   against_electric  against_fairy  against_fight  against_fire  \\\n",
       "0               0.5            0.5            0.5           2.0   \n",
       "1               0.5            0.5            0.5           2.0   \n",
       "2               0.5            0.5            0.5           2.0   \n",
       "3               1.0            0.5            1.0           0.5   \n",
       "4               1.0            0.5            1.0           0.5   \n",
       "\n",
       "   against_flying  against_ghost  ...  percentage_male  pokedex_number  \\\n",
       "0             2.0            1.0  ...             88.1               1   \n",
       "1             2.0            1.0  ...             88.1               2   \n",
       "2             2.0            1.0  ...             88.1               3   \n",
       "3             1.0            1.0  ...             88.1               4   \n",
       "4             1.0            1.0  ...             88.1               5   \n",
       "\n",
       "   sp_attack  sp_defense  speed  type1   type2  weight_kg  generation  \\\n",
       "0         65          65     45  grass  poison        6.9           1   \n",
       "1         80          80     60  grass  poison       13.0           1   \n",
       "2        122         120     80  grass  poison      100.0           1   \n",
       "3         60          50     65   fire     NaN        8.5           1   \n",
       "4         80          65     80   fire     NaN       19.0           1   \n",
       "\n",
       "   is_legendary  \n",
       "0             0  \n",
       "1             0  \n",
       "2             0  \n",
       "3             0  \n",
       "4             0  \n",
       "\n",
       "[5 rows x 41 columns]"
      ]
     },
     "execution_count": 2,
     "metadata": {},
     "output_type": "execute_result"
    }
   ],
   "source": [
    "df = pd.read_csv(\"./dataset/pokemon.csv\")\n",
    "\n",
    "df.head()"
   ]
  },
  {
   "cell_type": "code",
   "execution_count": 3,
   "id": "collected-contrast",
   "metadata": {},
   "outputs": [
    {
     "data": {
      "text/plain": [
       "(801, 41)"
      ]
     },
     "execution_count": 3,
     "metadata": {},
     "output_type": "execute_result"
    }
   ],
   "source": [
    "df.shape"
   ]
  },
  {
   "cell_type": "code",
   "execution_count": 4,
   "id": "compressed-supplier",
   "metadata": {
    "scrolled": false
   },
   "outputs": [
    {
     "name": "stdout",
     "output_type": "stream",
     "text": [
      "<class 'pandas.core.frame.DataFrame'>\n",
      "RangeIndex: 801 entries, 0 to 800\n",
      "Data columns (total 41 columns):\n",
      " #   Column             Non-Null Count  Dtype  \n",
      "---  ------             --------------  -----  \n",
      " 0   abilities          801 non-null    object \n",
      " 1   against_bug        801 non-null    float64\n",
      " 2   against_dark       801 non-null    float64\n",
      " 3   against_dragon     801 non-null    float64\n",
      " 4   against_electric   801 non-null    float64\n",
      " 5   against_fairy      801 non-null    float64\n",
      " 6   against_fight      801 non-null    float64\n",
      " 7   against_fire       801 non-null    float64\n",
      " 8   against_flying     801 non-null    float64\n",
      " 9   against_ghost      801 non-null    float64\n",
      " 10  against_grass      801 non-null    float64\n",
      " 11  against_ground     801 non-null    float64\n",
      " 12  against_ice        801 non-null    float64\n",
      " 13  against_normal     801 non-null    float64\n",
      " 14  against_poison     801 non-null    float64\n",
      " 15  against_psychic    801 non-null    float64\n",
      " 16  against_rock       801 non-null    float64\n",
      " 17  against_steel      801 non-null    float64\n",
      " 18  against_water      801 non-null    float64\n",
      " 19  attack             801 non-null    int64  \n",
      " 20  base_egg_steps     801 non-null    int64  \n",
      " 21  base_happiness     801 non-null    int64  \n",
      " 22  base_total         801 non-null    int64  \n",
      " 23  capture_rate       801 non-null    object \n",
      " 24  classfication      801 non-null    object \n",
      " 25  defense            801 non-null    int64  \n",
      " 26  experience_growth  801 non-null    int64  \n",
      " 27  height_m           781 non-null    float64\n",
      " 28  hp                 801 non-null    int64  \n",
      " 29  japanese_name      801 non-null    object \n",
      " 30  name               801 non-null    object \n",
      " 31  percentage_male    703 non-null    float64\n",
      " 32  pokedex_number     801 non-null    int64  \n",
      " 33  sp_attack          801 non-null    int64  \n",
      " 34  sp_defense         801 non-null    int64  \n",
      " 35  speed              801 non-null    int64  \n",
      " 36  type1              801 non-null    object \n",
      " 37  type2              417 non-null    object \n",
      " 38  weight_kg          781 non-null    float64\n",
      " 39  generation         801 non-null    int64  \n",
      " 40  is_legendary       801 non-null    int64  \n",
      "dtypes: float64(21), int64(13), object(7)\n",
      "memory usage: 256.7+ KB\n"
     ]
    }
   ],
   "source": [
    "df.info()"
   ]
  },
  {
   "cell_type": "markdown",
   "id": "swiss-bryan",
   "metadata": {},
   "source": [
    "Dari inspeksi data di atas, dapat dilihat bahwa beberapa kolom memiliki _null value_ yang perlu dibersihkan. Namun karena fokus kali ini tidak pada pembuatan model, hanya sebatas EDA, _null value_ ini dapat diabaikan."
   ]
  },
  {
   "cell_type": "code",
   "execution_count": 5,
   "id": "extra-reconstruction",
   "metadata": {
    "scrolled": false
   },
   "outputs": [
    {
     "data": {
      "text/html": [
       "<div>\n",
       "<style scoped>\n",
       "    .dataframe tbody tr th:only-of-type {\n",
       "        vertical-align: middle;\n",
       "    }\n",
       "\n",
       "    .dataframe tbody tr th {\n",
       "        vertical-align: top;\n",
       "    }\n",
       "\n",
       "    .dataframe thead th {\n",
       "        text-align: right;\n",
       "    }\n",
       "</style>\n",
       "<table border=\"1\" class=\"dataframe\">\n",
       "  <thead>\n",
       "    <tr style=\"text-align: right;\">\n",
       "      <th></th>\n",
       "      <th>against_bug</th>\n",
       "      <th>against_dark</th>\n",
       "      <th>against_dragon</th>\n",
       "      <th>against_electric</th>\n",
       "      <th>against_fairy</th>\n",
       "      <th>against_fight</th>\n",
       "      <th>against_fire</th>\n",
       "      <th>against_flying</th>\n",
       "      <th>against_ghost</th>\n",
       "      <th>against_grass</th>\n",
       "      <th>...</th>\n",
       "      <th>height_m</th>\n",
       "      <th>hp</th>\n",
       "      <th>percentage_male</th>\n",
       "      <th>pokedex_number</th>\n",
       "      <th>sp_attack</th>\n",
       "      <th>sp_defense</th>\n",
       "      <th>speed</th>\n",
       "      <th>weight_kg</th>\n",
       "      <th>generation</th>\n",
       "      <th>is_legendary</th>\n",
       "    </tr>\n",
       "  </thead>\n",
       "  <tbody>\n",
       "    <tr>\n",
       "      <th>count</th>\n",
       "      <td>801.000000</td>\n",
       "      <td>801.000000</td>\n",
       "      <td>801.000000</td>\n",
       "      <td>801.000000</td>\n",
       "      <td>801.000000</td>\n",
       "      <td>801.000000</td>\n",
       "      <td>801.000000</td>\n",
       "      <td>801.000000</td>\n",
       "      <td>801.000000</td>\n",
       "      <td>801.000000</td>\n",
       "      <td>...</td>\n",
       "      <td>781.000000</td>\n",
       "      <td>801.000000</td>\n",
       "      <td>703.000000</td>\n",
       "      <td>801.000000</td>\n",
       "      <td>801.000000</td>\n",
       "      <td>801.000000</td>\n",
       "      <td>801.000000</td>\n",
       "      <td>781.000000</td>\n",
       "      <td>801.000000</td>\n",
       "      <td>801.000000</td>\n",
       "    </tr>\n",
       "    <tr>\n",
       "      <th>mean</th>\n",
       "      <td>0.996255</td>\n",
       "      <td>1.057116</td>\n",
       "      <td>0.968789</td>\n",
       "      <td>1.073970</td>\n",
       "      <td>1.068976</td>\n",
       "      <td>1.065543</td>\n",
       "      <td>1.135456</td>\n",
       "      <td>1.192884</td>\n",
       "      <td>0.985019</td>\n",
       "      <td>1.034020</td>\n",
       "      <td>...</td>\n",
       "      <td>1.163892</td>\n",
       "      <td>68.958801</td>\n",
       "      <td>55.155761</td>\n",
       "      <td>401.000000</td>\n",
       "      <td>71.305868</td>\n",
       "      <td>70.911361</td>\n",
       "      <td>66.334582</td>\n",
       "      <td>61.378105</td>\n",
       "      <td>3.690387</td>\n",
       "      <td>0.087391</td>\n",
       "    </tr>\n",
       "    <tr>\n",
       "      <th>std</th>\n",
       "      <td>0.597248</td>\n",
       "      <td>0.438142</td>\n",
       "      <td>0.353058</td>\n",
       "      <td>0.654962</td>\n",
       "      <td>0.522167</td>\n",
       "      <td>0.717251</td>\n",
       "      <td>0.691853</td>\n",
       "      <td>0.604488</td>\n",
       "      <td>0.558256</td>\n",
       "      <td>0.788896</td>\n",
       "      <td>...</td>\n",
       "      <td>1.080326</td>\n",
       "      <td>26.576015</td>\n",
       "      <td>20.261623</td>\n",
       "      <td>231.373075</td>\n",
       "      <td>32.353826</td>\n",
       "      <td>27.942501</td>\n",
       "      <td>28.907662</td>\n",
       "      <td>109.354766</td>\n",
       "      <td>1.930420</td>\n",
       "      <td>0.282583</td>\n",
       "    </tr>\n",
       "    <tr>\n",
       "      <th>min</th>\n",
       "      <td>0.250000</td>\n",
       "      <td>0.250000</td>\n",
       "      <td>0.000000</td>\n",
       "      <td>0.000000</td>\n",
       "      <td>0.250000</td>\n",
       "      <td>0.000000</td>\n",
       "      <td>0.250000</td>\n",
       "      <td>0.250000</td>\n",
       "      <td>0.000000</td>\n",
       "      <td>0.250000</td>\n",
       "      <td>...</td>\n",
       "      <td>0.100000</td>\n",
       "      <td>1.000000</td>\n",
       "      <td>0.000000</td>\n",
       "      <td>1.000000</td>\n",
       "      <td>10.000000</td>\n",
       "      <td>20.000000</td>\n",
       "      <td>5.000000</td>\n",
       "      <td>0.100000</td>\n",
       "      <td>1.000000</td>\n",
       "      <td>0.000000</td>\n",
       "    </tr>\n",
       "    <tr>\n",
       "      <th>25%</th>\n",
       "      <td>0.500000</td>\n",
       "      <td>1.000000</td>\n",
       "      <td>1.000000</td>\n",
       "      <td>0.500000</td>\n",
       "      <td>1.000000</td>\n",
       "      <td>0.500000</td>\n",
       "      <td>0.500000</td>\n",
       "      <td>1.000000</td>\n",
       "      <td>1.000000</td>\n",
       "      <td>0.500000</td>\n",
       "      <td>...</td>\n",
       "      <td>0.600000</td>\n",
       "      <td>50.000000</td>\n",
       "      <td>50.000000</td>\n",
       "      <td>201.000000</td>\n",
       "      <td>45.000000</td>\n",
       "      <td>50.000000</td>\n",
       "      <td>45.000000</td>\n",
       "      <td>9.000000</td>\n",
       "      <td>2.000000</td>\n",
       "      <td>0.000000</td>\n",
       "    </tr>\n",
       "    <tr>\n",
       "      <th>50%</th>\n",
       "      <td>1.000000</td>\n",
       "      <td>1.000000</td>\n",
       "      <td>1.000000</td>\n",
       "      <td>1.000000</td>\n",
       "      <td>1.000000</td>\n",
       "      <td>1.000000</td>\n",
       "      <td>1.000000</td>\n",
       "      <td>1.000000</td>\n",
       "      <td>1.000000</td>\n",
       "      <td>1.000000</td>\n",
       "      <td>...</td>\n",
       "      <td>1.000000</td>\n",
       "      <td>65.000000</td>\n",
       "      <td>50.000000</td>\n",
       "      <td>401.000000</td>\n",
       "      <td>65.000000</td>\n",
       "      <td>66.000000</td>\n",
       "      <td>65.000000</td>\n",
       "      <td>27.300000</td>\n",
       "      <td>4.000000</td>\n",
       "      <td>0.000000</td>\n",
       "    </tr>\n",
       "    <tr>\n",
       "      <th>75%</th>\n",
       "      <td>1.000000</td>\n",
       "      <td>1.000000</td>\n",
       "      <td>1.000000</td>\n",
       "      <td>1.000000</td>\n",
       "      <td>1.000000</td>\n",
       "      <td>1.000000</td>\n",
       "      <td>2.000000</td>\n",
       "      <td>1.000000</td>\n",
       "      <td>1.000000</td>\n",
       "      <td>1.000000</td>\n",
       "      <td>...</td>\n",
       "      <td>1.500000</td>\n",
       "      <td>80.000000</td>\n",
       "      <td>50.000000</td>\n",
       "      <td>601.000000</td>\n",
       "      <td>91.000000</td>\n",
       "      <td>90.000000</td>\n",
       "      <td>85.000000</td>\n",
       "      <td>64.800000</td>\n",
       "      <td>5.000000</td>\n",
       "      <td>0.000000</td>\n",
       "    </tr>\n",
       "    <tr>\n",
       "      <th>max</th>\n",
       "      <td>4.000000</td>\n",
       "      <td>4.000000</td>\n",
       "      <td>2.000000</td>\n",
       "      <td>4.000000</td>\n",
       "      <td>4.000000</td>\n",
       "      <td>4.000000</td>\n",
       "      <td>4.000000</td>\n",
       "      <td>4.000000</td>\n",
       "      <td>4.000000</td>\n",
       "      <td>4.000000</td>\n",
       "      <td>...</td>\n",
       "      <td>14.500000</td>\n",
       "      <td>255.000000</td>\n",
       "      <td>100.000000</td>\n",
       "      <td>801.000000</td>\n",
       "      <td>194.000000</td>\n",
       "      <td>230.000000</td>\n",
       "      <td>180.000000</td>\n",
       "      <td>999.900000</td>\n",
       "      <td>7.000000</td>\n",
       "      <td>1.000000</td>\n",
       "    </tr>\n",
       "  </tbody>\n",
       "</table>\n",
       "<p>8 rows × 34 columns</p>\n",
       "</div>"
      ],
      "text/plain": [
       "       against_bug  against_dark  against_dragon  against_electric  \\\n",
       "count   801.000000    801.000000      801.000000        801.000000   \n",
       "mean      0.996255      1.057116        0.968789          1.073970   \n",
       "std       0.597248      0.438142        0.353058          0.654962   \n",
       "min       0.250000      0.250000        0.000000          0.000000   \n",
       "25%       0.500000      1.000000        1.000000          0.500000   \n",
       "50%       1.000000      1.000000        1.000000          1.000000   \n",
       "75%       1.000000      1.000000        1.000000          1.000000   \n",
       "max       4.000000      4.000000        2.000000          4.000000   \n",
       "\n",
       "       against_fairy  against_fight  against_fire  against_flying  \\\n",
       "count     801.000000     801.000000    801.000000      801.000000   \n",
       "mean        1.068976       1.065543      1.135456        1.192884   \n",
       "std         0.522167       0.717251      0.691853        0.604488   \n",
       "min         0.250000       0.000000      0.250000        0.250000   \n",
       "25%         1.000000       0.500000      0.500000        1.000000   \n",
       "50%         1.000000       1.000000      1.000000        1.000000   \n",
       "75%         1.000000       1.000000      2.000000        1.000000   \n",
       "max         4.000000       4.000000      4.000000        4.000000   \n",
       "\n",
       "       against_ghost  against_grass  ...    height_m          hp  \\\n",
       "count     801.000000     801.000000  ...  781.000000  801.000000   \n",
       "mean        0.985019       1.034020  ...    1.163892   68.958801   \n",
       "std         0.558256       0.788896  ...    1.080326   26.576015   \n",
       "min         0.000000       0.250000  ...    0.100000    1.000000   \n",
       "25%         1.000000       0.500000  ...    0.600000   50.000000   \n",
       "50%         1.000000       1.000000  ...    1.000000   65.000000   \n",
       "75%         1.000000       1.000000  ...    1.500000   80.000000   \n",
       "max         4.000000       4.000000  ...   14.500000  255.000000   \n",
       "\n",
       "       percentage_male  pokedex_number   sp_attack  sp_defense       speed  \\\n",
       "count       703.000000      801.000000  801.000000  801.000000  801.000000   \n",
       "mean         55.155761      401.000000   71.305868   70.911361   66.334582   \n",
       "std          20.261623      231.373075   32.353826   27.942501   28.907662   \n",
       "min           0.000000        1.000000   10.000000   20.000000    5.000000   \n",
       "25%          50.000000      201.000000   45.000000   50.000000   45.000000   \n",
       "50%          50.000000      401.000000   65.000000   66.000000   65.000000   \n",
       "75%          50.000000      601.000000   91.000000   90.000000   85.000000   \n",
       "max         100.000000      801.000000  194.000000  230.000000  180.000000   \n",
       "\n",
       "        weight_kg  generation  is_legendary  \n",
       "count  781.000000  801.000000    801.000000  \n",
       "mean    61.378105    3.690387      0.087391  \n",
       "std    109.354766    1.930420      0.282583  \n",
       "min      0.100000    1.000000      0.000000  \n",
       "25%      9.000000    2.000000      0.000000  \n",
       "50%     27.300000    4.000000      0.000000  \n",
       "75%     64.800000    5.000000      0.000000  \n",
       "max    999.900000    7.000000      1.000000  \n",
       "\n",
       "[8 rows x 34 columns]"
      ]
     },
     "execution_count": 5,
     "metadata": {},
     "output_type": "execute_result"
    }
   ],
   "source": [
    "df.describe()"
   ]
  },
  {
   "cell_type": "markdown",
   "id": "generous-psychiatry",
   "metadata": {},
   "source": [
    "## Eksplorasi Data"
   ]
  },
  {
   "cell_type": "markdown",
   "id": "changed-value",
   "metadata": {},
   "source": [
    "EDA / Exploratory Data Analysis kali ini akan berfokus pada menjawab beberapa pertanyaan untuk memahami data lebih dalam."
   ]
  },
  {
   "cell_type": "markdown",
   "id": "aggregate-course",
   "metadata": {},
   "source": [
    "<b>Daftar pertanyaan yang akan dijawab:</b> <br>\n",
    "<ol>\n",
    "    <li>Ada berapa pokemon untuk tiap generasi?</li>\n",
    "    <li>Ada berapa pokemon legendaris dan bagaimana persebarannya untuk tiap generasi?</li>\n",
    "    <li>Pokemon apa yang paling berat dan paling ringan?</li>\n",
    "    <li>Pokemon apa yang paling besar dan paling kecil?</li>\n",
    "    <li>Pokemon apa yang memiliki base egg steps paling tinggi dan paling rendah?</li>\n",
    "    <li>Apa pokemon yang paling sulit ditangkap?</li>\n",
    "    <li>Pokemon apa yang memiliki efektifitas kombinasi tipe paling efektif?</li>\n",
    "    <li>Apa pokemon dengan base stat terkuat untuk tiap kategori?</li>\n",
    "    <li>Apa pokemon yang paling terkuat dan terlemah?</li>\n",
    "    <li>Apa pokemon paling kuat dan lemah untuk tiap generasinya?</li>\n",
    "    <li>Apa ability yang paling umum dimiliki pokemon?</li>\n",
    "</ol>"
   ]
  },
  {
   "cell_type": "markdown",
   "id": "posted-density",
   "metadata": {},
   "source": [
    "### Ada berapa pokemon untuk tiap generasi?"
   ]
  },
  {
   "cell_type": "markdown",
   "id": "compatible-martin",
   "metadata": {},
   "source": [
    "Generasi adalah pengumpulan jenis pokemon berdasarkan game-nya. Generasi pokemon saat ini telah mencapai generasi ke-8 (Pokemon Sword and Shield). Namun pada dataset ini generasi masih sampai generasi ke-7 saja."
   ]
  },
  {
   "cell_type": "code",
   "execution_count": 6,
   "id": "underlying-daisy",
   "metadata": {},
   "outputs": [
    {
     "data": {
      "text/plain": [
       "1    151\n",
       "2    100\n",
       "3    135\n",
       "4    107\n",
       "5    156\n",
       "6     72\n",
       "7     80\n",
       "Name: generation, dtype: int64"
      ]
     },
     "execution_count": 6,
     "metadata": {},
     "output_type": "execute_result"
    }
   ],
   "source": [
    "df['generation'].value_counts(sort=False)"
   ]
  },
  {
   "cell_type": "code",
   "execution_count": 7,
   "id": "chief-throat",
   "metadata": {},
   "outputs": [
    {
     "data": {
      "text/plain": [
       "<AxesSubplot:xlabel='generation', ylabel='count'>"
      ]
     },
     "execution_count": 7,
     "metadata": {},
     "output_type": "execute_result"
    },
    {
     "data": {
      "image/png": "[encoded data removed]",
      "text/plain": [
       "<Figure size 432x288 with 1 Axes>"
      ]
     },
     "metadata": {
      "needs_background": "light"
     },
     "output_type": "display_data"
    }
   ],
   "source": [
    "sns.countplot(x=df['generation'])"
   ]
  },
  {
   "cell_type": "markdown",
   "id": "demanding-volleyball",
   "metadata": {},
   "source": [
    "Generasi dengan pokemon terbanyak ialah generasi ke-5 dengan banyak pokemon sebanyak 156. Posisi ke-2 dimiliki oleh generasi ke-1 dengan banyak pokemon yang hampir sama seperti generasi ke-5, yaitu 151. Generasi dengan pokemon paling sedikit ialah generasi ke-6 dengan pokemon sebanyak 72."
   ]
  },
  {
   "cell_type": "markdown",
   "id": "superior-banner",
   "metadata": {},
   "source": [
    "### Ada berapa pokemon legendaris dan bagaimana persebarannya untuk tiap generasi?"
   ]
  },
  {
   "cell_type": "code",
   "execution_count": 8,
   "id": "tracked-trustee",
   "metadata": {},
   "outputs": [
    {
     "name": "stdout",
     "output_type": "stream",
     "text": [
      "Banyaknya pokemon legendaris ialah: 70\n"
     ]
    }
   ],
   "source": [
    "print(\"Banyaknya pokemon legendaris ialah: {0}\".format(len(df[df['is_legendary'] == 1])))"
   ]
  },
  {
   "cell_type": "code",
   "execution_count": 9,
   "id": "modern-business",
   "metadata": {},
   "outputs": [
    {
     "data": {
      "text/plain": [
       "<AxesSubplot:xlabel='generation', ylabel='count'>"
      ]
     },
     "execution_count": 9,
     "metadata": {},
     "output_type": "execute_result"
    },
    {
     "data": {
      "image/png": "[encoded data removed]",
      "text/plain": [
       "<Figure size 432x288 with 1 Axes>"
      ]
     },
     "metadata": {
      "needs_background": "light"
     },
     "output_type": "display_data"
    }
   ],
   "source": [
    "sns.countplot(x=df[df['is_legendary'] == 1]['generation'])"
   ]
  },
  {
   "cell_type": "code",
   "execution_count": 10,
   "id": "expensive-armstrong",
   "metadata": {},
   "outputs": [
    {
     "data": {
      "text/plain": [
       "1     5\n",
       "2     6\n",
       "3    10\n",
       "4    13\n",
       "5    13\n",
       "6     6\n",
       "7    17\n",
       "Name: generation, dtype: int64"
      ]
     },
     "execution_count": 10,
     "metadata": {},
     "output_type": "execute_result"
    }
   ],
   "source": [
    "df[df['is_legendary'] == 1]['generation'].value_counts(sort=False)"
   ]
  },
  {
   "cell_type": "markdown",
   "id": "cleared-karen",
   "metadata": {},
   "source": [
    "Dari persebaran yang sudah ditampilkan, generasi ke-7 memiliki jumlah pokemon legendaris yang paling banyak, yaitu 17 pokemon. Sementara itu generasi ke-1 memiliki jumlah pokemon paling sedikit, yaitu 5 pokemon."
   ]
  },
  {
   "cell_type": "markdown",
   "id": "affected-positive",
   "metadata": {},
   "source": [
    "### Pokemon apa yang paling berat dan paling ringan?"
   ]
  },
  {
   "cell_type": "code",
   "execution_count": 11,
   "id": "metric-preliminary",
   "metadata": {},
   "outputs": [
    {
     "data": {
      "text/html": [
       "<div>\n",
       "<style scoped>\n",
       "    .dataframe tbody tr th:only-of-type {\n",
       "        vertical-align: middle;\n",
       "    }\n",
       "\n",
       "    .dataframe tbody tr th {\n",
       "        vertical-align: top;\n",
       "    }\n",
       "\n",
       "    .dataframe thead th {\n",
       "        text-align: right;\n",
       "    }\n",
       "</style>\n",
       "<table border=\"1\" class=\"dataframe\">\n",
       "  <thead>\n",
       "    <tr style=\"text-align: right;\">\n",
       "      <th></th>\n",
       "      <th>name</th>\n",
       "      <th>weight_kg</th>\n",
       "    </tr>\n",
       "  </thead>\n",
       "  <tbody>\n",
       "    <tr>\n",
       "      <th>789</th>\n",
       "      <td>Cosmoem</td>\n",
       "      <td>999.9</td>\n",
       "    </tr>\n",
       "    <tr>\n",
       "      <th>796</th>\n",
       "      <td>Celesteela</td>\n",
       "      <td>999.9</td>\n",
       "    </tr>\n",
       "  </tbody>\n",
       "</table>\n",
       "</div>"
      ],
      "text/plain": [
       "           name  weight_kg\n",
       "789     Cosmoem      999.9\n",
       "796  Celesteela      999.9"
      ]
     },
     "execution_count": 11,
     "metadata": {},
     "output_type": "execute_result"
    }
   ],
   "source": [
    "df[df['weight_kg'] == df['weight_kg'].max()][['name', 'weight_kg']]"
   ]
  },
  {
   "cell_type": "markdown",
   "id": "alert-indonesian",
   "metadata": {},
   "source": [
    "Gelar pokemon terberat dimiliki oleh Cosmoem dan Celesteela. Kedua pokemon ini memiliki berat yang identik, yaitu hampir 1 ton atau 999.9 kg."
   ]
  },
  {
   "cell_type": "code",
   "execution_count": 12,
   "id": "shared-butter",
   "metadata": {},
   "outputs": [
    {
     "data": {
      "text/html": [
       "<div>\n",
       "<style scoped>\n",
       "    .dataframe tbody tr th:only-of-type {\n",
       "        vertical-align: middle;\n",
       "    }\n",
       "\n",
       "    .dataframe tbody tr th {\n",
       "        vertical-align: top;\n",
       "    }\n",
       "\n",
       "    .dataframe thead th {\n",
       "        text-align: right;\n",
       "    }\n",
       "</style>\n",
       "<table border=\"1\" class=\"dataframe\">\n",
       "  <thead>\n",
       "    <tr style=\"text-align: right;\">\n",
       "      <th></th>\n",
       "      <th>name</th>\n",
       "      <th>weight_kg</th>\n",
       "    </tr>\n",
       "  </thead>\n",
       "  <tbody>\n",
       "    <tr>\n",
       "      <th>91</th>\n",
       "      <td>Gastly</td>\n",
       "      <td>0.1</td>\n",
       "    </tr>\n",
       "    <tr>\n",
       "      <th>92</th>\n",
       "      <td>Haunter</td>\n",
       "      <td>0.1</td>\n",
       "    </tr>\n",
       "    <tr>\n",
       "      <th>668</th>\n",
       "      <td>Flabébé</td>\n",
       "      <td>0.1</td>\n",
       "    </tr>\n",
       "    <tr>\n",
       "      <th>788</th>\n",
       "      <td>Cosmog</td>\n",
       "      <td>0.1</td>\n",
       "    </tr>\n",
       "    <tr>\n",
       "      <th>797</th>\n",
       "      <td>Kartana</td>\n",
       "      <td>0.1</td>\n",
       "    </tr>\n",
       "  </tbody>\n",
       "</table>\n",
       "</div>"
      ],
      "text/plain": [
       "        name  weight_kg\n",
       "91    Gastly        0.1\n",
       "92   Haunter        0.1\n",
       "668  Flabébé        0.1\n",
       "788   Cosmog        0.1\n",
       "797  Kartana        0.1"
      ]
     },
     "execution_count": 12,
     "metadata": {},
     "output_type": "execute_result"
    }
   ],
   "source": [
    "df[df['weight_kg'] == df['weight_kg'].min()][['name', 'weight_kg']]"
   ]
  },
  {
   "cell_type": "code",
   "execution_count": 13,
   "id": "endless-working",
   "metadata": {},
   "outputs": [
    {
     "data": {
      "text/plain": [
       "5"
      ]
     },
     "execution_count": 13,
     "metadata": {},
     "output_type": "execute_result"
    }
   ],
   "source": [
    "df[df['weight_kg'] == df['weight_kg'].min()]['name'].count()"
   ]
  },
  {
   "cell_type": "markdown",
   "id": "upset-decimal",
   "metadata": {},
   "source": [
    "Ada 5 pokemon yang memiliki berat paling kecil. Nilai berat paling kecil ialah sebesar 0.1 kg."
   ]
  },
  {
   "cell_type": "markdown",
   "id": "accompanied-cooling",
   "metadata": {},
   "source": [
    "Untuk memberikan gambaran yang lebih baik, nilai rata-rata, distribusi dari variabel berat, serta data statistik lainnya dapat dilihat pada output di bawah ini:"
   ]
  },
  {
   "cell_type": "code",
   "execution_count": 14,
   "id": "welsh-order",
   "metadata": {},
   "outputs": [
    {
     "name": "stdout",
     "output_type": "stream",
     "text": [
      "Rata-rata berat: 61.38 kg\n"
     ]
    },
    {
     "data": {
      "image/png": "[encoded data removed]",
      "text/plain": [
       "<Figure size 432x288 with 1 Axes>"
      ]
     },
     "metadata": {
      "needs_background": "light"
     },
     "output_type": "display_data"
    }
   ],
   "source": [
    "sns.histplot(df['weight_kg'])\n",
    "print(\"Rata-rata berat: {0} kg\".format(np.round(df['weight_kg'].mean(), 2)))"
   ]
  },
  {
   "cell_type": "code",
   "execution_count": 15,
   "id": "hearing-microwave",
   "metadata": {},
   "outputs": [
    {
     "data": {
      "text/plain": [
       "count    781.000000\n",
       "mean      61.378105\n",
       "std      109.354766\n",
       "min        0.100000\n",
       "25%        9.000000\n",
       "50%       27.300000\n",
       "75%       64.800000\n",
       "max      999.900000\n",
       "Name: weight_kg, dtype: float64"
      ]
     },
     "execution_count": 15,
     "metadata": {},
     "output_type": "execute_result"
    }
   ],
   "source": [
    "df['weight_kg'].describe()"
   ]
  },
  {
   "cell_type": "markdown",
   "id": "reserved-diamond",
   "metadata": {},
   "source": [
    "### Pokemon apa yang paling besar dan paling kecil?"
   ]
  },
  {
   "cell_type": "markdown",
   "id": "brown-criticism",
   "metadata": {},
   "source": [
    "Pokemon yang paling besar dapat dicari dengan menggunakan variabel _height_m_ yang ada pada dataset. Data ini merepresentasikan besar pokemon dalam satuan meter."
   ]
  },
  {
   "cell_type": "code",
   "execution_count": 16,
   "id": "critical-contractor",
   "metadata": {},
   "outputs": [
    {
     "data": {
      "text/html": [
       "<div>\n",
       "<style scoped>\n",
       "    .dataframe tbody tr th:only-of-type {\n",
       "        vertical-align: middle;\n",
       "    }\n",
       "\n",
       "    .dataframe tbody tr th {\n",
       "        vertical-align: top;\n",
       "    }\n",
       "\n",
       "    .dataframe thead th {\n",
       "        text-align: right;\n",
       "    }\n",
       "</style>\n",
       "<table border=\"1\" class=\"dataframe\">\n",
       "  <thead>\n",
       "    <tr style=\"text-align: right;\">\n",
       "      <th></th>\n",
       "      <th>name</th>\n",
       "      <th>height_m</th>\n",
       "    </tr>\n",
       "  </thead>\n",
       "  <tbody>\n",
       "    <tr>\n",
       "      <th>320</th>\n",
       "      <td>Wailord</td>\n",
       "      <td>14.5</td>\n",
       "    </tr>\n",
       "  </tbody>\n",
       "</table>\n",
       "</div>"
      ],
      "text/plain": [
       "        name  height_m\n",
       "320  Wailord      14.5"
      ]
     },
     "execution_count": 16,
     "metadata": {},
     "output_type": "execute_result"
    }
   ],
   "source": [
    "df[df['height_m'] == df['height_m'].max()][['name', 'height_m']]"
   ]
  },
  {
   "cell_type": "markdown",
   "id": "aware-shelter",
   "metadata": {},
   "source": [
    "Pokemon paling besar ialah Wailord dengan besar 14.5 m."
   ]
  },
  {
   "cell_type": "code",
   "execution_count": 17,
   "id": "fatal-tongue",
   "metadata": {},
   "outputs": [
    {
     "data": {
      "text/html": [
       "<div>\n",
       "<style scoped>\n",
       "    .dataframe tbody tr th:only-of-type {\n",
       "        vertical-align: middle;\n",
       "    }\n",
       "\n",
       "    .dataframe tbody tr th {\n",
       "        vertical-align: top;\n",
       "    }\n",
       "\n",
       "    .dataframe thead th {\n",
       "        text-align: right;\n",
       "    }\n",
       "</style>\n",
       "<table border=\"1\" class=\"dataframe\">\n",
       "  <thead>\n",
       "    <tr style=\"text-align: right;\">\n",
       "      <th></th>\n",
       "      <th>name</th>\n",
       "      <th>height_m</th>\n",
       "    </tr>\n",
       "  </thead>\n",
       "  <tbody>\n",
       "    <tr>\n",
       "      <th>594</th>\n",
       "      <td>Joltik</td>\n",
       "      <td>0.1</td>\n",
       "    </tr>\n",
       "    <tr>\n",
       "      <th>668</th>\n",
       "      <td>Flabébé</td>\n",
       "      <td>0.1</td>\n",
       "    </tr>\n",
       "    <tr>\n",
       "      <th>741</th>\n",
       "      <td>Cutiefly</td>\n",
       "      <td>0.1</td>\n",
       "    </tr>\n",
       "    <tr>\n",
       "      <th>763</th>\n",
       "      <td>Comfey</td>\n",
       "      <td>0.1</td>\n",
       "    </tr>\n",
       "    <tr>\n",
       "      <th>789</th>\n",
       "      <td>Cosmoem</td>\n",
       "      <td>0.1</td>\n",
       "    </tr>\n",
       "  </tbody>\n",
       "</table>\n",
       "</div>"
      ],
      "text/plain": [
       "         name  height_m\n",
       "594    Joltik       0.1\n",
       "668   Flabébé       0.1\n",
       "741  Cutiefly       0.1\n",
       "763    Comfey       0.1\n",
       "789   Cosmoem       0.1"
      ]
     },
     "execution_count": 17,
     "metadata": {},
     "output_type": "execute_result"
    }
   ],
   "source": [
    "df[df['height_m'] == df['height_m'].min()][['name', 'height_m']]"
   ]
  },
  {
   "cell_type": "markdown",
   "id": "comic-blond",
   "metadata": {},
   "source": [
    "Terdapat 5 pokemon dengan ukuran paling kecil. Ukuran mereka masing-masing sama, yaitu 0.1 m."
   ]
  },
  {
   "cell_type": "code",
   "execution_count": 18,
   "id": "common-correlation",
   "metadata": {},
   "outputs": [
    {
     "data": {
      "text/plain": [
       "<AxesSubplot:xlabel='name'>"
      ]
     },
     "execution_count": 18,
     "metadata": {},
     "output_type": "execute_result"
    },
    {
     "data": {
      "image/png": "[encoded data removed]",
      "text/plain": [
       "<Figure size 432x288 with 1 Axes>"
      ]
     },
     "metadata": {
      "needs_background": "light"
     },
     "output_type": "display_data"
    }
   ],
   "source": [
    "df[['name', 'height_m']].sort_values(['height_m'], ascending=False).head(10).plot.bar(x='name', y='height_m')"
   ]
  },
  {
   "cell_type": "markdown",
   "id": "encouraging-surprise",
   "metadata": {},
   "source": [
    "Berikut adalah data statistik lainnya pada variabel ukuran / \"height_m\":"
   ]
  },
  {
   "cell_type": "code",
   "execution_count": 19,
   "id": "tired-africa",
   "metadata": {},
   "outputs": [
    {
     "data": {
      "text/plain": [
       "count    781.000000\n",
       "mean       1.163892\n",
       "std        1.080326\n",
       "min        0.100000\n",
       "25%        0.600000\n",
       "50%        1.000000\n",
       "75%        1.500000\n",
       "max       14.500000\n",
       "Name: height_m, dtype: float64"
      ]
     },
     "execution_count": 19,
     "metadata": {},
     "output_type": "execute_result"
    }
   ],
   "source": [
    "df['height_m'].describe()"
   ]
  },
  {
   "cell_type": "markdown",
   "id": "strong-shuttle",
   "metadata": {},
   "source": [
    "### Pokemon apa yang memiliki base egg steps paling tinggi dan paling rendah?"
   ]
  },
  {
   "cell_type": "markdown",
   "id": "bronze-panama",
   "metadata": {},
   "source": [
    "Sebelum kita menjawab pertanyaan ini, perlu kita pahami terlebih dahulu apa yang dimaksud dengan <i>base egg steps</i>. Pada game pokemon classic, pemain dapat memiliki telur pokemon yang dapat menetas apabila pemain berjalan / berlari dengan membawa telur tersebut. Nilai _base egg steps_ menentukan jumlah steps / langkah yang dibutuhkan agar telur pokemon dapat menetas. "
   ]
  },
  {
   "cell_type": "markdown",
   "id": "sudden-disposal",
   "metadata": {},
   "source": [
    "Untuk menjawab pertanyaan ini diperlukan, data hanya perlu diurutkan berdasarkan nilai _base egg steps_-nya.<br>\n",
    "Dataframe dapat diurutkan dengan menggunakan method yang bernama <i>sort_values</i>."
   ]
  },
  {
   "cell_type": "code",
   "execution_count": 20,
   "id": "geographic-nevada",
   "metadata": {
    "scrolled": false
   },
   "outputs": [
    {
     "data": {
      "text/html": [
       "<div>\n",
       "<style scoped>\n",
       "    .dataframe tbody tr th:only-of-type {\n",
       "        vertical-align: middle;\n",
       "    }\n",
       "\n",
       "    .dataframe tbody tr th {\n",
       "        vertical-align: top;\n",
       "    }\n",
       "\n",
       "    .dataframe thead th {\n",
       "        text-align: right;\n",
       "    }\n",
       "</style>\n",
       "<table border=\"1\" class=\"dataframe\">\n",
       "  <thead>\n",
       "    <tr style=\"text-align: right;\">\n",
       "      <th></th>\n",
       "      <th>name</th>\n",
       "      <th>base_egg_steps</th>\n",
       "    </tr>\n",
       "  </thead>\n",
       "  <tbody>\n",
       "    <tr>\n",
       "      <th>128</th>\n",
       "      <td>Magikarp</td>\n",
       "      <td>1280</td>\n",
       "    </tr>\n",
       "    <tr>\n",
       "      <th>129</th>\n",
       "      <td>Gyarados</td>\n",
       "      <td>1280</td>\n",
       "    </tr>\n",
       "    <tr>\n",
       "      <th>517</th>\n",
       "      <td>Musharna</td>\n",
       "      <td>2560</td>\n",
       "    </tr>\n",
       "    <tr>\n",
       "      <th>297</th>\n",
       "      <td>Azurill</td>\n",
       "      <td>2560</td>\n",
       "    </tr>\n",
       "    <tr>\n",
       "      <th>182</th>\n",
       "      <td>Marill</td>\n",
       "      <td>2560</td>\n",
       "    </tr>\n",
       "    <tr>\n",
       "      <th>...</th>\n",
       "      <td>...</td>\n",
       "      <td>...</td>\n",
       "    </tr>\n",
       "    <tr>\n",
       "      <th>149</th>\n",
       "      <td>Mewtwo</td>\n",
       "      <td>30720</td>\n",
       "    </tr>\n",
       "    <tr>\n",
       "      <th>150</th>\n",
       "      <td>Mew</td>\n",
       "      <td>30720</td>\n",
       "    </tr>\n",
       "    <tr>\n",
       "      <th>381</th>\n",
       "      <td>Kyogre</td>\n",
       "      <td>30720</td>\n",
       "    </tr>\n",
       "    <tr>\n",
       "      <th>643</th>\n",
       "      <td>Zekrom</td>\n",
       "      <td>30720</td>\n",
       "    </tr>\n",
       "    <tr>\n",
       "      <th>800</th>\n",
       "      <td>Magearna</td>\n",
       "      <td>30720</td>\n",
       "    </tr>\n",
       "  </tbody>\n",
       "</table>\n",
       "<p>801 rows × 2 columns</p>\n",
       "</div>"
      ],
      "text/plain": [
       "         name  base_egg_steps\n",
       "128  Magikarp            1280\n",
       "129  Gyarados            1280\n",
       "517  Musharna            2560\n",
       "297   Azurill            2560\n",
       "182    Marill            2560\n",
       "..        ...             ...\n",
       "149    Mewtwo           30720\n",
       "150       Mew           30720\n",
       "381    Kyogre           30720\n",
       "643    Zekrom           30720\n",
       "800  Magearna           30720\n",
       "\n",
       "[801 rows x 2 columns]"
      ]
     },
     "execution_count": 20,
     "metadata": {},
     "output_type": "execute_result"
    }
   ],
   "source": [
    "df[['name', 'base_egg_steps']].sort_values(['base_egg_steps'], ascending=True)"
   ]
  },
  {
   "cell_type": "markdown",
   "id": "nonprofit-mentor",
   "metadata": {},
   "source": [
    "Berdasarkan informasi yang telah didapat, pokemon dengan _base egg steps_ paling rendah ialah Magikarp sementara _base egg steps_ paling tinggi dimiliki oleh Magearna."
   ]
  },
  {
   "cell_type": "markdown",
   "id": "annoying-alignment",
   "metadata": {},
   "source": [
    "Namun, pada game pokemon terdapat yang namanya pokemon legendaris, di mana pokemon tersebut hanya dapat ditemui pada saat event / kejadian dalam game tertentu. Telur dari pokemon legendaris pada umumnya tidak dapat ditemukan. <br>\n",
    "Dataset yang didapat memiliki variabel bernama _is_legendary_. Nilai variabel ini akan bernilai 0 apabila pokemon tersebut bukan merupakan pokemon legendaris dan sebaliknya. Untuk itu kita akan melakukan pengecekan lagi terhadap data tadi. Kali ini melibatkan variabel _is_legendary_."
   ]
  },
  {
   "cell_type": "code",
   "execution_count": 21,
   "id": "coordinate-prince",
   "metadata": {},
   "outputs": [
    {
     "data": {
      "text/html": [
       "<div>\n",
       "<style scoped>\n",
       "    .dataframe tbody tr th:only-of-type {\n",
       "        vertical-align: middle;\n",
       "    }\n",
       "\n",
       "    .dataframe tbody tr th {\n",
       "        vertical-align: top;\n",
       "    }\n",
       "\n",
       "    .dataframe thead th {\n",
       "        text-align: right;\n",
       "    }\n",
       "</style>\n",
       "<table border=\"1\" class=\"dataframe\">\n",
       "  <thead>\n",
       "    <tr style=\"text-align: right;\">\n",
       "      <th></th>\n",
       "      <th>name</th>\n",
       "      <th>base_egg_steps</th>\n",
       "      <th>is_legendary</th>\n",
       "    </tr>\n",
       "  </thead>\n",
       "  <tbody>\n",
       "    <tr>\n",
       "      <th>128</th>\n",
       "      <td>Magikarp</td>\n",
       "      <td>1280</td>\n",
       "      <td>0</td>\n",
       "    </tr>\n",
       "    <tr>\n",
       "      <th>129</th>\n",
       "      <td>Gyarados</td>\n",
       "      <td>1280</td>\n",
       "      <td>0</td>\n",
       "    </tr>\n",
       "    <tr>\n",
       "      <th>517</th>\n",
       "      <td>Musharna</td>\n",
       "      <td>2560</td>\n",
       "      <td>0</td>\n",
       "    </tr>\n",
       "    <tr>\n",
       "      <th>297</th>\n",
       "      <td>Azurill</td>\n",
       "      <td>2560</td>\n",
       "      <td>0</td>\n",
       "    </tr>\n",
       "    <tr>\n",
       "      <th>182</th>\n",
       "      <td>Marill</td>\n",
       "      <td>2560</td>\n",
       "      <td>0</td>\n",
       "    </tr>\n",
       "    <tr>\n",
       "      <th>...</th>\n",
       "      <td>...</td>\n",
       "      <td>...</td>\n",
       "      <td>...</td>\n",
       "    </tr>\n",
       "    <tr>\n",
       "      <th>149</th>\n",
       "      <td>Mewtwo</td>\n",
       "      <td>30720</td>\n",
       "      <td>1</td>\n",
       "    </tr>\n",
       "    <tr>\n",
       "      <th>150</th>\n",
       "      <td>Mew</td>\n",
       "      <td>30720</td>\n",
       "      <td>1</td>\n",
       "    </tr>\n",
       "    <tr>\n",
       "      <th>381</th>\n",
       "      <td>Kyogre</td>\n",
       "      <td>30720</td>\n",
       "      <td>1</td>\n",
       "    </tr>\n",
       "    <tr>\n",
       "      <th>643</th>\n",
       "      <td>Zekrom</td>\n",
       "      <td>30720</td>\n",
       "      <td>1</td>\n",
       "    </tr>\n",
       "    <tr>\n",
       "      <th>800</th>\n",
       "      <td>Magearna</td>\n",
       "      <td>30720</td>\n",
       "      <td>1</td>\n",
       "    </tr>\n",
       "  </tbody>\n",
       "</table>\n",
       "<p>801 rows × 3 columns</p>\n",
       "</div>"
      ],
      "text/plain": [
       "         name  base_egg_steps  is_legendary\n",
       "128  Magikarp            1280             0\n",
       "129  Gyarados            1280             0\n",
       "517  Musharna            2560             0\n",
       "297   Azurill            2560             0\n",
       "182    Marill            2560             0\n",
       "..        ...             ...           ...\n",
       "149    Mewtwo           30720             1\n",
       "150       Mew           30720             1\n",
       "381    Kyogre           30720             1\n",
       "643    Zekrom           30720             1\n",
       "800  Magearna           30720             1\n",
       "\n",
       "[801 rows x 3 columns]"
      ]
     },
     "execution_count": 21,
     "metadata": {},
     "output_type": "execute_result"
    }
   ],
   "source": [
    "df[['name', 'base_egg_steps', 'is_legendary']].sort_values(['base_egg_steps'], ascending=True)"
   ]
  },
  {
   "cell_type": "markdown",
   "id": "absent-period",
   "metadata": {},
   "source": [
    "Pokemon dengan _base egg steps_ yang tinggi mayoritas diraih oleh pokemon legendaris yang hampir mustahil ditemukan telurnya. Lalu bagaimana apabila kita filter lagi datanya untuk menampilkan hanya pokemon nonlegendaris?"
   ]
  },
  {
   "cell_type": "code",
   "execution_count": 22,
   "id": "disciplinary-vector",
   "metadata": {},
   "outputs": [
    {
     "data": {
      "text/html": [
       "<div>\n",
       "<style scoped>\n",
       "    .dataframe tbody tr th:only-of-type {\n",
       "        vertical-align: middle;\n",
       "    }\n",
       "\n",
       "    .dataframe tbody tr th {\n",
       "        vertical-align: top;\n",
       "    }\n",
       "\n",
       "    .dataframe thead th {\n",
       "        text-align: right;\n",
       "    }\n",
       "</style>\n",
       "<table border=\"1\" class=\"dataframe\">\n",
       "  <thead>\n",
       "    <tr style=\"text-align: right;\">\n",
       "      <th></th>\n",
       "      <th>name</th>\n",
       "      <th>base_egg_steps</th>\n",
       "    </tr>\n",
       "  </thead>\n",
       "  <tbody>\n",
       "    <tr>\n",
       "      <th>128</th>\n",
       "      <td>Magikarp</td>\n",
       "      <td>1280</td>\n",
       "    </tr>\n",
       "    <tr>\n",
       "      <th>129</th>\n",
       "      <td>Gyarados</td>\n",
       "      <td>1280</td>\n",
       "    </tr>\n",
       "    <tr>\n",
       "      <th>173</th>\n",
       "      <td>Igglybuff</td>\n",
       "      <td>2560</td>\n",
       "    </tr>\n",
       "    <tr>\n",
       "      <th>517</th>\n",
       "      <td>Musharna</td>\n",
       "      <td>2560</td>\n",
       "    </tr>\n",
       "    <tr>\n",
       "      <th>467</th>\n",
       "      <td>Togekiss</td>\n",
       "      <td>2560</td>\n",
       "    </tr>\n",
       "    <tr>\n",
       "      <th>...</th>\n",
       "      <td>...</td>\n",
       "      <td>...</td>\n",
       "    </tr>\n",
       "    <tr>\n",
       "      <th>241</th>\n",
       "      <td>Blissey</td>\n",
       "      <td>10240</td>\n",
       "    </tr>\n",
       "    <tr>\n",
       "      <th>705</th>\n",
       "      <td>Goodra</td>\n",
       "      <td>10240</td>\n",
       "    </tr>\n",
       "    <tr>\n",
       "      <th>146</th>\n",
       "      <td>Dratini</td>\n",
       "      <td>10240</td>\n",
       "    </tr>\n",
       "    <tr>\n",
       "      <th>772</th>\n",
       "      <td>Silvally</td>\n",
       "      <td>30720</td>\n",
       "    </tr>\n",
       "    <tr>\n",
       "      <th>771</th>\n",
       "      <td>Type: Null</td>\n",
       "      <td>30720</td>\n",
       "    </tr>\n",
       "  </tbody>\n",
       "</table>\n",
       "<p>731 rows × 2 columns</p>\n",
       "</div>"
      ],
      "text/plain": [
       "           name  base_egg_steps\n",
       "128    Magikarp            1280\n",
       "129    Gyarados            1280\n",
       "173   Igglybuff            2560\n",
       "517    Musharna            2560\n",
       "467    Togekiss            2560\n",
       "..          ...             ...\n",
       "241     Blissey           10240\n",
       "705      Goodra           10240\n",
       "146     Dratini           10240\n",
       "772    Silvally           30720\n",
       "771  Type: Null           30720\n",
       "\n",
       "[731 rows x 2 columns]"
      ]
     },
     "execution_count": 22,
     "metadata": {},
     "output_type": "execute_result"
    }
   ],
   "source": [
    "df_nonlegendary = df[df['is_legendary'] == 0]\n",
    "\n",
    "df_nonlegendary[['name', 'base_egg_steps']].sort_values(['base_egg_steps'], ascending=True)"
   ]
  },
  {
   "cell_type": "markdown",
   "id": "stable-scout",
   "metadata": {},
   "source": [
    "Pokemon dengan _base egg steps_ tertinggi ialah Silvally dan Type: Null. Namun berdasarkan sumber lain yang didapat, Silvally dan Type: Null ini merupakan pokemon legendaris. Terdapat kesalahan informasi yang ada pada data. Untuk membersihkan Silvally dan Type: Null, operasi berikut dilakukan:"
   ]
  },
  {
   "cell_type": "code",
   "execution_count": 23,
   "id": "electoral-segment",
   "metadata": {},
   "outputs": [
    {
     "data": {
      "text/html": [
       "<div>\n",
       "<style scoped>\n",
       "    .dataframe tbody tr th:only-of-type {\n",
       "        vertical-align: middle;\n",
       "    }\n",
       "\n",
       "    .dataframe tbody tr th {\n",
       "        vertical-align: top;\n",
       "    }\n",
       "\n",
       "    .dataframe thead th {\n",
       "        text-align: right;\n",
       "    }\n",
       "</style>\n",
       "<table border=\"1\" class=\"dataframe\">\n",
       "  <thead>\n",
       "    <tr style=\"text-align: right;\">\n",
       "      <th></th>\n",
       "      <th>name</th>\n",
       "      <th>base_egg_steps</th>\n",
       "    </tr>\n",
       "  </thead>\n",
       "  <tbody>\n",
       "    <tr>\n",
       "      <th>128</th>\n",
       "      <td>Magikarp</td>\n",
       "      <td>1280</td>\n",
       "    </tr>\n",
       "    <tr>\n",
       "      <th>129</th>\n",
       "      <td>Gyarados</td>\n",
       "      <td>1280</td>\n",
       "    </tr>\n",
       "    <tr>\n",
       "      <th>175</th>\n",
       "      <td>Togetic</td>\n",
       "      <td>2560</td>\n",
       "    </tr>\n",
       "    <tr>\n",
       "      <th>25</th>\n",
       "      <td>Raichu</td>\n",
       "      <td>2560</td>\n",
       "    </tr>\n",
       "    <tr>\n",
       "      <th>182</th>\n",
       "      <td>Marill</td>\n",
       "      <td>2560</td>\n",
       "    </tr>\n",
       "    <tr>\n",
       "      <th>...</th>\n",
       "      <td>...</td>\n",
       "      <td>...</td>\n",
       "    </tr>\n",
       "    <tr>\n",
       "      <th>443</th>\n",
       "      <td>Gabite</td>\n",
       "      <td>10240</td>\n",
       "    </tr>\n",
       "    <tr>\n",
       "      <th>442</th>\n",
       "      <td>Gible</td>\n",
       "      <td>10240</td>\n",
       "    </tr>\n",
       "    <tr>\n",
       "      <th>439</th>\n",
       "      <td>Happiny</td>\n",
       "      <td>10240</td>\n",
       "    </tr>\n",
       "    <tr>\n",
       "      <th>705</th>\n",
       "      <td>Goodra</td>\n",
       "      <td>10240</td>\n",
       "    </tr>\n",
       "    <tr>\n",
       "      <th>783</th>\n",
       "      <td>Kommo-o</td>\n",
       "      <td>10240</td>\n",
       "    </tr>\n",
       "  </tbody>\n",
       "</table>\n",
       "<p>729 rows × 2 columns</p>\n",
       "</div>"
      ],
      "text/plain": [
       "         name  base_egg_steps\n",
       "128  Magikarp            1280\n",
       "129  Gyarados            1280\n",
       "175   Togetic            2560\n",
       "25     Raichu            2560\n",
       "182    Marill            2560\n",
       "..        ...             ...\n",
       "443    Gabite           10240\n",
       "442     Gible           10240\n",
       "439   Happiny           10240\n",
       "705    Goodra           10240\n",
       "783   Kommo-o           10240\n",
       "\n",
       "[729 rows x 2 columns]"
      ]
     },
     "execution_count": 23,
     "metadata": {},
     "output_type": "execute_result"
    }
   ],
   "source": [
    "df_nonlegendary = df_nonlegendary[~df_nonlegendary['name'].isin(['Silvally', 'Type: Null'])]\n",
    "\n",
    "df_nonlegendary[['name', 'base_egg_steps']].sort_values(['base_egg_steps'], ascending=True)"
   ]
  },
  {
   "cell_type": "markdown",
   "id": "ruled-renaissance",
   "metadata": {},
   "source": [
    "Nilai _base egg steps_ maksimal untuk pokemon nonlegendaris ialah 10240 sementara nilai minimalnya ialah 1280.<br>\n",
    "Analisis dapat dilanjutkan dengan mencari banyaknya pokemon yang memiliki _base egg steps_ sebesar 10240."
   ]
  },
  {
   "cell_type": "code",
   "execution_count": 24,
   "id": "removable-upper",
   "metadata": {},
   "outputs": [
    {
     "data": {
      "text/plain": [
       "10240"
      ]
     },
     "execution_count": 24,
     "metadata": {},
     "output_type": "execute_result"
    }
   ],
   "source": [
    "df_nonlegendary['base_egg_steps'].max()"
   ]
  },
  {
   "cell_type": "code",
   "execution_count": 25,
   "id": "trained-contamination",
   "metadata": {},
   "outputs": [
    {
     "data": {
      "text/plain": [
       "1722"
      ]
     },
     "execution_count": 25,
     "metadata": {},
     "output_type": "execute_result"
    }
   ],
   "source": [
    "max_value = df_nonlegendary['base_egg_steps'].max()\n",
    "\n",
    "df_nonlegendary[df_nonlegendary['base_egg_steps'] == max_value].size"
   ]
  },
  {
   "cell_type": "markdown",
   "id": "egyptian-forge",
   "metadata": {},
   "source": [
    "Sebanyak 1722 pokemon memilki nilai _base egg steps_ maksimal."
   ]
  },
  {
   "cell_type": "markdown",
   "id": "tight-sunset",
   "metadata": {},
   "source": [
    "Untuk memberikan gambaran yang lebih jelas, berikut distribusi dan data statistik lain dari variabel _base egg steps_:"
   ]
  },
  {
   "cell_type": "code",
   "execution_count": 26,
   "id": "appreciated-armor",
   "metadata": {},
   "outputs": [
    {
     "data": {
      "text/plain": [
       "<AxesSubplot:xlabel='base_egg_steps', ylabel='Count'>"
      ]
     },
     "execution_count": 26,
     "metadata": {},
     "output_type": "execute_result"
    },
    {
     "data": {
      "image/png": "[encoded data removed]",
      "text/plain": [
       "<Figure size 432x288 with 1 Axes>"
      ]
     },
     "metadata": {
      "needs_background": "light"
     },
     "output_type": "display_data"
    }
   ],
   "source": [
    "sns.histplot(data=df['base_egg_steps'])"
   ]
  },
  {
   "cell_type": "code",
   "execution_count": 27,
   "id": "standing-fiber",
   "metadata": {},
   "outputs": [
    {
     "data": {
      "text/plain": [
       "count      801.000000\n",
       "mean      7191.011236\n",
       "std       6558.220422\n",
       "min       1280.000000\n",
       "25%       5120.000000\n",
       "50%       5120.000000\n",
       "75%       6400.000000\n",
       "max      30720.000000\n",
       "Name: base_egg_steps, dtype: float64"
      ]
     },
     "execution_count": 27,
     "metadata": {},
     "output_type": "execute_result"
    }
   ],
   "source": [
    "df['base_egg_steps'].describe()"
   ]
  },
  {
   "cell_type": "markdown",
   "id": "local-sydney",
   "metadata": {},
   "source": [
    "### Apa pokemon yang paling sulit ditangkap?"
   ]
  },
  {
   "cell_type": "markdown",
   "id": "residential-lloyd",
   "metadata": {},
   "source": [
    "Dalam game pokemon, pokemon liar dapat ditangkap dengan alat yang bernama pokeball. Dalam proses penangkapan, tangkapan tidak 100% akan berhasil tetapi ada peluang dimana pokemon tersebut gagal ditangkap. Sulit tidaknya pokemon ini ditangkap direpresentasikan ke dalam nilai yang bernama _catch rate_ atau pada dataset terdapat pada variabel _capture_rate_. Semakin besar nilai ini, semakin mudah menangkap pokemon tersebut."
   ]
  },
  {
   "cell_type": "markdown",
   "id": "diverse-peninsula",
   "metadata": {},
   "source": [
    "Sebelum proses analisa dilakukan, variabel _capture rate_ perlu dibersihkan terlebih dahulu karena tipe datanya tidak konsisten."
   ]
  },
  {
   "cell_type": "code",
   "execution_count": 28,
   "id": "spread-programming",
   "metadata": {},
   "outputs": [
    {
     "data": {
      "text/plain": [
       "array(['45', '255', '120', '127', '90', '190', '75', '235', '150', '25',\n",
       "       '170', '50', '200', '100', '180', '60', '225', '30', '35', '3',\n",
       "       '65', '70', '125', '205', '155', '145', '130', '140', '15', '220',\n",
       "       '160', '80', '55', '30 (Meteorite)255 (Core)'], dtype=object)"
      ]
     },
     "execution_count": 28,
     "metadata": {},
     "output_type": "execute_result"
    }
   ],
   "source": [
    "df['capture_rate'].unique()"
   ]
  },
  {
   "cell_type": "markdown",
   "id": "elementary-blanket",
   "metadata": {},
   "source": [
    "Seharusnya _capture_rate_ ini bernilai integer tetapi ada satu string yang masuk sehingga merubah tipe data kolom menjadi object. Hal ini akan menyebabkan data sulit dianalisa."
   ]
  },
  {
   "cell_type": "code",
   "execution_count": 29,
   "id": "lined-operation",
   "metadata": {},
   "outputs": [
    {
     "data": {
      "text/html": [
       "<div>\n",
       "<style scoped>\n",
       "    .dataframe tbody tr th:only-of-type {\n",
       "        vertical-align: middle;\n",
       "    }\n",
       "\n",
       "    .dataframe tbody tr th {\n",
       "        vertical-align: top;\n",
       "    }\n",
       "\n",
       "    .dataframe thead th {\n",
       "        text-align: right;\n",
       "    }\n",
       "</style>\n",
       "<table border=\"1\" class=\"dataframe\">\n",
       "  <thead>\n",
       "    <tr style=\"text-align: right;\">\n",
       "      <th></th>\n",
       "      <th>name</th>\n",
       "      <th>capture_rate</th>\n",
       "    </tr>\n",
       "  </thead>\n",
       "  <tbody>\n",
       "    <tr>\n",
       "      <th>773</th>\n",
       "      <td>Minior</td>\n",
       "      <td>30 (Meteorite)255 (Core)</td>\n",
       "    </tr>\n",
       "  </tbody>\n",
       "</table>\n",
       "</div>"
      ],
      "text/plain": [
       "       name              capture_rate\n",
       "773  Minior  30 (Meteorite)255 (Core)"
      ]
     },
     "execution_count": 29,
     "metadata": {},
     "output_type": "execute_result"
    }
   ],
   "source": [
    "df[df['capture_rate'] == '30 (Meteorite)255 (Core)'][['name', 'capture_rate']]"
   ]
  },
  {
   "cell_type": "markdown",
   "id": "identical-committee",
   "metadata": {},
   "source": [
    "Hanya terdapat satu data yang memiliki nilai ini. <br>\n",
    "Untuk membersihkannya, method at dapat digunakan lalu mengubah tipe data kolom menjadi _numeric_. Berdasarkan sumber luar yang didapat, pokemon dengan nama Minior ini memiliki <b>dua</b> _capture_rate_ sebesar 30 dan 255. Saya akan menggunakan nilai 30 untuk menggantikan string ini."
   ]
  },
  {
   "cell_type": "code",
   "execution_count": 30,
   "id": "dated-enzyme",
   "metadata": {},
   "outputs": [
    {
     "data": {
      "text/plain": [
       "count    801.000000\n",
       "mean      98.675406\n",
       "std       76.248866\n",
       "min        3.000000\n",
       "25%       45.000000\n",
       "50%       60.000000\n",
       "75%      170.000000\n",
       "max      255.000000\n",
       "Name: capture_rate, dtype: float64"
      ]
     },
     "execution_count": 30,
     "metadata": {},
     "output_type": "execute_result"
    }
   ],
   "source": [
    "df.at[773, 'capture_rate'] = 30\n",
    "\n",
    "df['capture_rate'] = pd.to_numeric(df['capture_rate'])\n",
    "\n",
    "df['capture_rate'].describe()"
   ]
  },
  {
   "cell_type": "code",
   "execution_count": 31,
   "id": "controlling-chocolate",
   "metadata": {},
   "outputs": [
    {
     "data": {
      "text/html": [
       "<div>\n",
       "<style scoped>\n",
       "    .dataframe tbody tr th:only-of-type {\n",
       "        vertical-align: middle;\n",
       "    }\n",
       "\n",
       "    .dataframe tbody tr th {\n",
       "        vertical-align: top;\n",
       "    }\n",
       "\n",
       "    .dataframe thead th {\n",
       "        text-align: right;\n",
       "    }\n",
       "</style>\n",
       "<table border=\"1\" class=\"dataframe\">\n",
       "  <thead>\n",
       "    <tr style=\"text-align: right;\">\n",
       "      <th></th>\n",
       "      <th>name</th>\n",
       "      <th>capture_rate</th>\n",
       "    </tr>\n",
       "  </thead>\n",
       "  <tbody>\n",
       "    <tr>\n",
       "      <th>9</th>\n",
       "      <td>Caterpie</td>\n",
       "      <td>255</td>\n",
       "    </tr>\n",
       "    <tr>\n",
       "      <th>12</th>\n",
       "      <td>Weedle</td>\n",
       "      <td>255</td>\n",
       "    </tr>\n",
       "    <tr>\n",
       "      <th>15</th>\n",
       "      <td>Pidgey</td>\n",
       "      <td>255</td>\n",
       "    </tr>\n",
       "    <tr>\n",
       "      <th>18</th>\n",
       "      <td>Rattata</td>\n",
       "      <td>255</td>\n",
       "    </tr>\n",
       "    <tr>\n",
       "      <th>20</th>\n",
       "      <td>Spearow</td>\n",
       "      <td>255</td>\n",
       "    </tr>\n",
       "    <tr>\n",
       "      <th>...</th>\n",
       "      <td>...</td>\n",
       "      <td>...</td>\n",
       "    </tr>\n",
       "    <tr>\n",
       "      <th>730</th>\n",
       "      <td>Pikipek</td>\n",
       "      <td>255</td>\n",
       "    </tr>\n",
       "    <tr>\n",
       "      <th>733</th>\n",
       "      <td>Yungoos</td>\n",
       "      <td>255</td>\n",
       "    </tr>\n",
       "    <tr>\n",
       "      <th>735</th>\n",
       "      <td>Grubbin</td>\n",
       "      <td>255</td>\n",
       "    </tr>\n",
       "    <tr>\n",
       "      <th>794</th>\n",
       "      <td>Pheromosa</td>\n",
       "      <td>255</td>\n",
       "    </tr>\n",
       "    <tr>\n",
       "      <th>797</th>\n",
       "      <td>Kartana</td>\n",
       "      <td>255</td>\n",
       "    </tr>\n",
       "  </tbody>\n",
       "</table>\n",
       "<p>69 rows × 2 columns</p>\n",
       "</div>"
      ],
      "text/plain": [
       "          name  capture_rate\n",
       "9     Caterpie           255\n",
       "12      Weedle           255\n",
       "15      Pidgey           255\n",
       "18     Rattata           255\n",
       "20     Spearow           255\n",
       "..         ...           ...\n",
       "730    Pikipek           255\n",
       "733    Yungoos           255\n",
       "735    Grubbin           255\n",
       "794  Pheromosa           255\n",
       "797    Kartana           255\n",
       "\n",
       "[69 rows x 2 columns]"
      ]
     },
     "execution_count": 31,
     "metadata": {},
     "output_type": "execute_result"
    }
   ],
   "source": [
    "df[df['capture_rate'] == df['capture_rate'].max()][['name', 'capture_rate']]"
   ]
  },
  {
   "cell_type": "code",
   "execution_count": 32,
   "id": "boxed-hamburg",
   "metadata": {
    "scrolled": true
   },
   "outputs": [
    {
     "data": {
      "text/html": [
       "<div>\n",
       "<style scoped>\n",
       "    .dataframe tbody tr th:only-of-type {\n",
       "        vertical-align: middle;\n",
       "    }\n",
       "\n",
       "    .dataframe tbody tr th {\n",
       "        vertical-align: top;\n",
       "    }\n",
       "\n",
       "    .dataframe thead th {\n",
       "        text-align: right;\n",
       "    }\n",
       "</style>\n",
       "<table border=\"1\" class=\"dataframe\">\n",
       "  <thead>\n",
       "    <tr style=\"text-align: right;\">\n",
       "      <th></th>\n",
       "      <th>name</th>\n",
       "      <th>capture_rate</th>\n",
       "    </tr>\n",
       "  </thead>\n",
       "  <tbody>\n",
       "    <tr>\n",
       "      <th>143</th>\n",
       "      <td>Articuno</td>\n",
       "      <td>3</td>\n",
       "    </tr>\n",
       "    <tr>\n",
       "      <th>144</th>\n",
       "      <td>Zapdos</td>\n",
       "      <td>3</td>\n",
       "    </tr>\n",
       "    <tr>\n",
       "      <th>145</th>\n",
       "      <td>Moltres</td>\n",
       "      <td>3</td>\n",
       "    </tr>\n",
       "    <tr>\n",
       "      <th>149</th>\n",
       "      <td>Mewtwo</td>\n",
       "      <td>3</td>\n",
       "    </tr>\n",
       "    <tr>\n",
       "      <th>242</th>\n",
       "      <td>Raikou</td>\n",
       "      <td>3</td>\n",
       "    </tr>\n",
       "    <tr>\n",
       "      <th>243</th>\n",
       "      <td>Entei</td>\n",
       "      <td>3</td>\n",
       "    </tr>\n",
       "    <tr>\n",
       "      <th>244</th>\n",
       "      <td>Suicune</td>\n",
       "      <td>3</td>\n",
       "    </tr>\n",
       "    <tr>\n",
       "      <th>248</th>\n",
       "      <td>Lugia</td>\n",
       "      <td>3</td>\n",
       "    </tr>\n",
       "    <tr>\n",
       "      <th>249</th>\n",
       "      <td>Ho-Oh</td>\n",
       "      <td>3</td>\n",
       "    </tr>\n",
       "    <tr>\n",
       "      <th>373</th>\n",
       "      <td>Beldum</td>\n",
       "      <td>3</td>\n",
       "    </tr>\n",
       "    <tr>\n",
       "      <th>374</th>\n",
       "      <td>Metang</td>\n",
       "      <td>3</td>\n",
       "    </tr>\n",
       "    <tr>\n",
       "      <th>375</th>\n",
       "      <td>Metagross</td>\n",
       "      <td>3</td>\n",
       "    </tr>\n",
       "    <tr>\n",
       "      <th>376</th>\n",
       "      <td>Regirock</td>\n",
       "      <td>3</td>\n",
       "    </tr>\n",
       "    <tr>\n",
       "      <th>377</th>\n",
       "      <td>Regice</td>\n",
       "      <td>3</td>\n",
       "    </tr>\n",
       "    <tr>\n",
       "      <th>378</th>\n",
       "      <td>Registeel</td>\n",
       "      <td>3</td>\n",
       "    </tr>\n",
       "    <tr>\n",
       "      <th>379</th>\n",
       "      <td>Latias</td>\n",
       "      <td>3</td>\n",
       "    </tr>\n",
       "    <tr>\n",
       "      <th>380</th>\n",
       "      <td>Latios</td>\n",
       "      <td>3</td>\n",
       "    </tr>\n",
       "    <tr>\n",
       "      <th>381</th>\n",
       "      <td>Kyogre</td>\n",
       "      <td>3</td>\n",
       "    </tr>\n",
       "    <tr>\n",
       "      <th>382</th>\n",
       "      <td>Groudon</td>\n",
       "      <td>3</td>\n",
       "    </tr>\n",
       "    <tr>\n",
       "      <th>384</th>\n",
       "      <td>Jirachi</td>\n",
       "      <td>3</td>\n",
       "    </tr>\n",
       "    <tr>\n",
       "      <th>385</th>\n",
       "      <td>Deoxys</td>\n",
       "      <td>3</td>\n",
       "    </tr>\n",
       "    <tr>\n",
       "      <th>479</th>\n",
       "      <td>Uxie</td>\n",
       "      <td>3</td>\n",
       "    </tr>\n",
       "    <tr>\n",
       "      <th>480</th>\n",
       "      <td>Mesprit</td>\n",
       "      <td>3</td>\n",
       "    </tr>\n",
       "    <tr>\n",
       "      <th>481</th>\n",
       "      <td>Azelf</td>\n",
       "      <td>3</td>\n",
       "    </tr>\n",
       "    <tr>\n",
       "      <th>482</th>\n",
       "      <td>Dialga</td>\n",
       "      <td>3</td>\n",
       "    </tr>\n",
       "    <tr>\n",
       "      <th>483</th>\n",
       "      <td>Palkia</td>\n",
       "      <td>3</td>\n",
       "    </tr>\n",
       "    <tr>\n",
       "      <th>484</th>\n",
       "      <td>Heatran</td>\n",
       "      <td>3</td>\n",
       "    </tr>\n",
       "    <tr>\n",
       "      <th>485</th>\n",
       "      <td>Regigigas</td>\n",
       "      <td>3</td>\n",
       "    </tr>\n",
       "    <tr>\n",
       "      <th>486</th>\n",
       "      <td>Giratina</td>\n",
       "      <td>3</td>\n",
       "    </tr>\n",
       "    <tr>\n",
       "      <th>487</th>\n",
       "      <td>Cresselia</td>\n",
       "      <td>3</td>\n",
       "    </tr>\n",
       "    <tr>\n",
       "      <th>489</th>\n",
       "      <td>Manaphy</td>\n",
       "      <td>3</td>\n",
       "    </tr>\n",
       "    <tr>\n",
       "      <th>490</th>\n",
       "      <td>Darkrai</td>\n",
       "      <td>3</td>\n",
       "    </tr>\n",
       "    <tr>\n",
       "      <th>492</th>\n",
       "      <td>Arceus</td>\n",
       "      <td>3</td>\n",
       "    </tr>\n",
       "    <tr>\n",
       "      <th>493</th>\n",
       "      <td>Victini</td>\n",
       "      <td>3</td>\n",
       "    </tr>\n",
       "    <tr>\n",
       "      <th>637</th>\n",
       "      <td>Cobalion</td>\n",
       "      <td>3</td>\n",
       "    </tr>\n",
       "    <tr>\n",
       "      <th>638</th>\n",
       "      <td>Terrakion</td>\n",
       "      <td>3</td>\n",
       "    </tr>\n",
       "    <tr>\n",
       "      <th>639</th>\n",
       "      <td>Virizion</td>\n",
       "      <td>3</td>\n",
       "    </tr>\n",
       "    <tr>\n",
       "      <th>640</th>\n",
       "      <td>Tornadus</td>\n",
       "      <td>3</td>\n",
       "    </tr>\n",
       "    <tr>\n",
       "      <th>641</th>\n",
       "      <td>Thundurus</td>\n",
       "      <td>3</td>\n",
       "    </tr>\n",
       "    <tr>\n",
       "      <th>642</th>\n",
       "      <td>Reshiram</td>\n",
       "      <td>3</td>\n",
       "    </tr>\n",
       "    <tr>\n",
       "      <th>643</th>\n",
       "      <td>Zekrom</td>\n",
       "      <td>3</td>\n",
       "    </tr>\n",
       "    <tr>\n",
       "      <th>644</th>\n",
       "      <td>Landorus</td>\n",
       "      <td>3</td>\n",
       "    </tr>\n",
       "    <tr>\n",
       "      <th>645</th>\n",
       "      <td>Kyurem</td>\n",
       "      <td>3</td>\n",
       "    </tr>\n",
       "    <tr>\n",
       "      <th>646</th>\n",
       "      <td>Keldeo</td>\n",
       "      <td>3</td>\n",
       "    </tr>\n",
       "    <tr>\n",
       "      <th>647</th>\n",
       "      <td>Meloetta</td>\n",
       "      <td>3</td>\n",
       "    </tr>\n",
       "    <tr>\n",
       "      <th>648</th>\n",
       "      <td>Genesect</td>\n",
       "      <td>3</td>\n",
       "    </tr>\n",
       "    <tr>\n",
       "      <th>717</th>\n",
       "      <td>Zygarde</td>\n",
       "      <td>3</td>\n",
       "    </tr>\n",
       "    <tr>\n",
       "      <th>718</th>\n",
       "      <td>Diancie</td>\n",
       "      <td>3</td>\n",
       "    </tr>\n",
       "    <tr>\n",
       "      <th>719</th>\n",
       "      <td>Hoopa</td>\n",
       "      <td>3</td>\n",
       "    </tr>\n",
       "    <tr>\n",
       "      <th>720</th>\n",
       "      <td>Volcanion</td>\n",
       "      <td>3</td>\n",
       "    </tr>\n",
       "    <tr>\n",
       "      <th>771</th>\n",
       "      <td>Type: Null</td>\n",
       "      <td>3</td>\n",
       "    </tr>\n",
       "    <tr>\n",
       "      <th>772</th>\n",
       "      <td>Silvally</td>\n",
       "      <td>3</td>\n",
       "    </tr>\n",
       "    <tr>\n",
       "      <th>784</th>\n",
       "      <td>Tapu Koko</td>\n",
       "      <td>3</td>\n",
       "    </tr>\n",
       "    <tr>\n",
       "      <th>785</th>\n",
       "      <td>Tapu Lele</td>\n",
       "      <td>3</td>\n",
       "    </tr>\n",
       "    <tr>\n",
       "      <th>786</th>\n",
       "      <td>Tapu Bulu</td>\n",
       "      <td>3</td>\n",
       "    </tr>\n",
       "    <tr>\n",
       "      <th>787</th>\n",
       "      <td>Tapu Fini</td>\n",
       "      <td>3</td>\n",
       "    </tr>\n",
       "    <tr>\n",
       "      <th>799</th>\n",
       "      <td>Necrozma</td>\n",
       "      <td>3</td>\n",
       "    </tr>\n",
       "    <tr>\n",
       "      <th>800</th>\n",
       "      <td>Magearna</td>\n",
       "      <td>3</td>\n",
       "    </tr>\n",
       "  </tbody>\n",
       "</table>\n",
       "</div>"
      ],
      "text/plain": [
       "           name  capture_rate\n",
       "143    Articuno             3\n",
       "144      Zapdos             3\n",
       "145     Moltres             3\n",
       "149      Mewtwo             3\n",
       "242      Raikou             3\n",
       "243       Entei             3\n",
       "244     Suicune             3\n",
       "248       Lugia             3\n",
       "249       Ho-Oh             3\n",
       "373      Beldum             3\n",
       "374      Metang             3\n",
       "375   Metagross             3\n",
       "376    Regirock             3\n",
       "377      Regice             3\n",
       "378   Registeel             3\n",
       "379      Latias             3\n",
       "380      Latios             3\n",
       "381      Kyogre             3\n",
       "382     Groudon             3\n",
       "384     Jirachi             3\n",
       "385      Deoxys             3\n",
       "479        Uxie             3\n",
       "480     Mesprit             3\n",
       "481       Azelf             3\n",
       "482      Dialga             3\n",
       "483      Palkia             3\n",
       "484     Heatran             3\n",
       "485   Regigigas             3\n",
       "486    Giratina             3\n",
       "487   Cresselia             3\n",
       "489     Manaphy             3\n",
       "490     Darkrai             3\n",
       "492      Arceus             3\n",
       "493     Victini             3\n",
       "637    Cobalion             3\n",
       "638   Terrakion             3\n",
       "639    Virizion             3\n",
       "640    Tornadus             3\n",
       "641   Thundurus             3\n",
       "642    Reshiram             3\n",
       "643      Zekrom             3\n",
       "644    Landorus             3\n",
       "645      Kyurem             3\n",
       "646      Keldeo             3\n",
       "647    Meloetta             3\n",
       "648    Genesect             3\n",
       "717     Zygarde             3\n",
       "718     Diancie             3\n",
       "719       Hoopa             3\n",
       "720   Volcanion             3\n",
       "771  Type: Null             3\n",
       "772    Silvally             3\n",
       "784   Tapu Koko             3\n",
       "785   Tapu Lele             3\n",
       "786   Tapu Bulu             3\n",
       "787   Tapu Fini             3\n",
       "799    Necrozma             3\n",
       "800    Magearna             3"
      ]
     },
     "execution_count": 32,
     "metadata": {},
     "output_type": "execute_result"
    }
   ],
   "source": [
    "df[df['capture_rate'] == df['capture_rate'].min()][['name', 'capture_rate']]"
   ]
  },
  {
   "cell_type": "markdown",
   "id": "noble-details",
   "metadata": {},
   "source": [
    "Pada data _capture rate_ paling rendah, semua pokemon yang ditampilkan ialah pokemon legendaris. Semua pokemon legendaris memiliki _capture rate_ sebesar 3. Pokemon legendaris memang memiliki _capture rate_ yang rendah karena mereka \"spesial\". Lalu bagaimana _capture rate_ terendah pada pokemon nonlengedaris? <br>\n",
    "Data pokemon nonlegendaris yang sebelumnya sudah dibuat dapat digunakan lagi pada kasus ini. Namun karena pada dataframe utama sudah terjadi pembersihan, data pokemon nonlegendaris perlu dibuat ulang."
   ]
  },
  {
   "cell_type": "code",
   "execution_count": 33,
   "id": "severe-constitution",
   "metadata": {},
   "outputs": [],
   "source": [
    "df_nonlegendary = df[df['is_legendary'] == 0]\n",
    "df_nonlegendary = df_nonlegendary[~df_nonlegendary['name'].isin(['Silvally', 'Type: Null'])]"
   ]
  },
  {
   "cell_type": "code",
   "execution_count": 34,
   "id": "heated-daniel",
   "metadata": {},
   "outputs": [
    {
     "data": {
      "text/html": [
       "<div>\n",
       "<style scoped>\n",
       "    .dataframe tbody tr th:only-of-type {\n",
       "        vertical-align: middle;\n",
       "    }\n",
       "\n",
       "    .dataframe tbody tr th {\n",
       "        vertical-align: top;\n",
       "    }\n",
       "\n",
       "    .dataframe thead th {\n",
       "        text-align: right;\n",
       "    }\n",
       "</style>\n",
       "<table border=\"1\" class=\"dataframe\">\n",
       "  <thead>\n",
       "    <tr style=\"text-align: right;\">\n",
       "      <th></th>\n",
       "      <th>name</th>\n",
       "      <th>capture_rate</th>\n",
       "    </tr>\n",
       "  </thead>\n",
       "  <tbody>\n",
       "    <tr>\n",
       "      <th>373</th>\n",
       "      <td>Beldum</td>\n",
       "      <td>3</td>\n",
       "    </tr>\n",
       "    <tr>\n",
       "      <th>374</th>\n",
       "      <td>Metang</td>\n",
       "      <td>3</td>\n",
       "    </tr>\n",
       "    <tr>\n",
       "      <th>375</th>\n",
       "      <td>Metagross</td>\n",
       "      <td>3</td>\n",
       "    </tr>\n",
       "  </tbody>\n",
       "</table>\n",
       "</div>"
      ],
      "text/plain": [
       "          name  capture_rate\n",
       "373     Beldum             3\n",
       "374     Metang             3\n",
       "375  Metagross             3"
      ]
     },
     "execution_count": 34,
     "metadata": {},
     "output_type": "execute_result"
    }
   ],
   "source": [
    "df_nonlegendary[df_nonlegendary['capture_rate'] == df_nonlegendary['capture_rate'].min()][['name', 'capture_rate']]"
   ]
  },
  {
   "cell_type": "markdown",
   "id": "ideal-community",
   "metadata": {},
   "source": [
    "Dapat disimpulkan, ada 69 pokemon yang memiliki _capture rate_ terbesar / paling mudah ditangkap. <br>\n",
    "Sementara itu, pokemon nonlegendaris yang paling sulit ditangkap / memiliki _capture rate_ paling kecil ialah Beldum, Metang, dan Metagross (pokemon ini berada pada satu rantai evolusi)."
   ]
  },
  {
   "cell_type": "markdown",
   "id": "miniature-advisory",
   "metadata": {},
   "source": [
    "### Pokemon apa yang memiliki efektifitas kombinasi tipe paling efektif?"
   ]
  },
  {
   "cell_type": "markdown",
   "id": "blank-component",
   "metadata": {},
   "source": [
    "Counter attack adalah cara paling mudah untuk mengatasi pokemon. Setiap pokemon dan serangannya memiliki jenis elemen. Beberapa elemen yang ada antara lain normal, fire, grass, dark, dan lain sebagainya. Jika elemen serangan merupakan lawan dari elemen pokemon tersebut, kerusakan / _damage_ yang diterima pokemon tersebut lebih besar "
   ]
  },
  {
   "cell_type": "markdown",
   "id": "trained-resistance",
   "metadata": {},
   "source": [
    "Lalu bagaimana cara menentukan pokemon dengan efektifitas kombinasi elemen paling tinggi?<br>\n",
    "Pada data yang sudah disediakan, terdapat variabel yang menetukan kerusakan yang diterima pokemon berdasarkan elemen serangannya (against_bug, against_normal, against_dark, dan sebagainya). Semua variabel ini dapat dijumlahkan lalu dicari nilai <b>minimumnya</b>. Mengapa minimum? Karena semakin besar nilai total ini semakin banyak _counter attack_ dari pokemon tersebut."
   ]
  },
  {
   "cell_type": "code",
   "execution_count": 35,
   "id": "hindu-version",
   "metadata": {},
   "outputs": [
    {
     "data": {
      "text/plain": [
       "count    801.000000\n",
       "mean      19.044007\n",
       "std        1.905506\n",
       "min       13.250000\n",
       "25%       18.000000\n",
       "50%       18.750000\n",
       "75%       20.000000\n",
       "max       26.000000\n",
       "Name: against_total, dtype: float64"
      ]
     },
     "execution_count": 35,
     "metadata": {},
     "output_type": "execute_result"
    }
   ],
   "source": [
    "df['against_total'] = df.iloc[:, 1:19].sum(axis=1)\n",
    "\n",
    "df['against_total'].describe()"
   ]
  },
  {
   "cell_type": "markdown",
   "id": "quarterly-knight",
   "metadata": {},
   "source": [
    "Variabel baru dengan nama _against_total_ dibuat. Variabel ini merupakan jumlah total dari variabel _against_ tiap baris / datanya. Dataset di-_slice_ dengan method iloc agar hanya menampilkan kolom dengan indeks 1 hingga 18 (nilai against sudah urut sehingga dapat menggunakan indeks). Lalu dijumlahkan tiap barisnya dengan method sum dan parameter axis diisi 1 (horizontal)."
   ]
  },
  {
   "cell_type": "code",
   "execution_count": 36,
   "id": "simplified-finish",
   "metadata": {},
   "outputs": [
    {
     "data": {
      "text/html": [
       "<div>\n",
       "<style scoped>\n",
       "    .dataframe tbody tr th:only-of-type {\n",
       "        vertical-align: middle;\n",
       "    }\n",
       "\n",
       "    .dataframe tbody tr th {\n",
       "        vertical-align: top;\n",
       "    }\n",
       "\n",
       "    .dataframe thead th {\n",
       "        text-align: right;\n",
       "    }\n",
       "</style>\n",
       "<table border=\"1\" class=\"dataframe\">\n",
       "  <thead>\n",
       "    <tr style=\"text-align: right;\">\n",
       "      <th></th>\n",
       "      <th>against_total</th>\n",
       "      <th>name</th>\n",
       "      <th>type1</th>\n",
       "      <th>type2</th>\n",
       "    </tr>\n",
       "  </thead>\n",
       "  <tbody>\n",
       "    <tr>\n",
       "      <th>302</th>\n",
       "      <td>13.25</td>\n",
       "      <td>Mawile</td>\n",
       "      <td>steel</td>\n",
       "      <td>fairy</td>\n",
       "    </tr>\n",
       "    <tr>\n",
       "      <th>706</th>\n",
       "      <td>13.25</td>\n",
       "      <td>Klefki</td>\n",
       "      <td>steel</td>\n",
       "      <td>fairy</td>\n",
       "    </tr>\n",
       "    <tr>\n",
       "      <th>800</th>\n",
       "      <td>13.25</td>\n",
       "      <td>Magearna</td>\n",
       "      <td>steel</td>\n",
       "      <td>fairy</td>\n",
       "    </tr>\n",
       "  </tbody>\n",
       "</table>\n",
       "</div>"
      ],
      "text/plain": [
       "     against_total      name  type1  type2\n",
       "302          13.25    Mawile  steel  fairy\n",
       "706          13.25    Klefki  steel  fairy\n",
       "800          13.25  Magearna  steel  fairy"
      ]
     },
     "execution_count": 36,
     "metadata": {},
     "output_type": "execute_result"
    }
   ],
   "source": [
    "df[df['against_total'] == df['against_total'].min()][['against_total', 'name', 'type1', 'type2']]"
   ]
  },
  {
   "cell_type": "markdown",
   "id": "alert-drawing",
   "metadata": {},
   "source": [
    "Dari _filtering_ yang sudah dilakukan, didapat <b>3</b> pokemon dengan nilai against_total paling kecil. Ketiga pokemon ini memiliki tipe steel dan fairy. Dari sini dapat ditarik kesimpulan bahwasannya tipe steel dan fairy ini merupakan kombinasi paling efektif sejauh ini. "
   ]
  },
  {
   "cell_type": "markdown",
   "id": "revised-collect",
   "metadata": {},
   "source": [
    "Lalu bagaimana dengan kombinasi tipe paling tidak efektif?<br>"
   ]
  },
  {
   "cell_type": "code",
   "execution_count": 37,
   "id": "legendary-ghana",
   "metadata": {},
   "outputs": [
    {
     "data": {
      "text/html": [
       "<div>\n",
       "<style scoped>\n",
       "    .dataframe tbody tr th:only-of-type {\n",
       "        vertical-align: middle;\n",
       "    }\n",
       "\n",
       "    .dataframe tbody tr th {\n",
       "        vertical-align: top;\n",
       "    }\n",
       "\n",
       "    .dataframe thead th {\n",
       "        text-align: right;\n",
       "    }\n",
       "</style>\n",
       "<table border=\"1\" class=\"dataframe\">\n",
       "  <thead>\n",
       "    <tr style=\"text-align: right;\">\n",
       "      <th></th>\n",
       "      <th>against_total</th>\n",
       "      <th>name</th>\n",
       "      <th>type1</th>\n",
       "      <th>type2</th>\n",
       "    </tr>\n",
       "  </thead>\n",
       "  <tbody>\n",
       "    <tr>\n",
       "      <th>697</th>\n",
       "      <td>26.0</td>\n",
       "      <td>Amaura</td>\n",
       "      <td>rock</td>\n",
       "      <td>ice</td>\n",
       "    </tr>\n",
       "    <tr>\n",
       "      <th>698</th>\n",
       "      <td>26.0</td>\n",
       "      <td>Aurorus</td>\n",
       "      <td>rock</td>\n",
       "      <td>ice</td>\n",
       "    </tr>\n",
       "  </tbody>\n",
       "</table>\n",
       "</div>"
      ],
      "text/plain": [
       "     against_total     name type1 type2\n",
       "697           26.0   Amaura  rock   ice\n",
       "698           26.0  Aurorus  rock   ice"
      ]
     },
     "execution_count": 37,
     "metadata": {},
     "output_type": "execute_result"
    }
   ],
   "source": [
    "df[df['against_total'] == df['against_total'].max()][['against_total', 'name', 'type1', 'type2']]"
   ]
  },
  {
   "cell_type": "markdown",
   "id": "piano-carnival",
   "metadata": {},
   "source": [
    "Rock dan Ice merupakan kombinasi tipe yang paling tidak efektif karena memiliki nilai _against_total_ sebesar 26.0, hampir dua kali dari kombinasi Steel dan Fairy."
   ]
  },
  {
   "cell_type": "code",
   "execution_count": 38,
   "id": "beginning-glucose",
   "metadata": {},
   "outputs": [
    {
     "data": {
      "text/html": [
       "<div>\n",
       "<style scoped>\n",
       "    .dataframe tbody tr th:only-of-type {\n",
       "        vertical-align: middle;\n",
       "    }\n",
       "\n",
       "    .dataframe tbody tr th {\n",
       "        vertical-align: top;\n",
       "    }\n",
       "\n",
       "    .dataframe thead th {\n",
       "        text-align: right;\n",
       "    }\n",
       "</style>\n",
       "<table border=\"1\" class=\"dataframe\">\n",
       "  <thead>\n",
       "    <tr style=\"text-align: right;\">\n",
       "      <th></th>\n",
       "      <th>against_total</th>\n",
       "      <th>name</th>\n",
       "      <th>type1</th>\n",
       "      <th>type2</th>\n",
       "    </tr>\n",
       "  </thead>\n",
       "  <tbody>\n",
       "    <tr>\n",
       "      <th>800</th>\n",
       "      <td>13.25</td>\n",
       "      <td>Magearna</td>\n",
       "      <td>steel</td>\n",
       "      <td>fairy</td>\n",
       "    </tr>\n",
       "    <tr>\n",
       "      <th>706</th>\n",
       "      <td>13.25</td>\n",
       "      <td>Klefki</td>\n",
       "      <td>steel</td>\n",
       "      <td>fairy</td>\n",
       "    </tr>\n",
       "    <tr>\n",
       "      <th>302</th>\n",
       "      <td>13.25</td>\n",
       "      <td>Mawile</td>\n",
       "      <td>steel</td>\n",
       "      <td>fairy</td>\n",
       "    </tr>\n",
       "    <tr>\n",
       "      <th>796</th>\n",
       "      <td>13.50</td>\n",
       "      <td>Celesteela</td>\n",
       "      <td>steel</td>\n",
       "      <td>flying</td>\n",
       "    </tr>\n",
       "    <tr>\n",
       "      <th>226</th>\n",
       "      <td>13.50</td>\n",
       "      <td>Skarmory</td>\n",
       "      <td>steel</td>\n",
       "      <td>flying</td>\n",
       "    </tr>\n",
       "    <tr>\n",
       "      <th>680</th>\n",
       "      <td>14.25</td>\n",
       "      <td>Aegislash</td>\n",
       "      <td>steel</td>\n",
       "      <td>ghost</td>\n",
       "    </tr>\n",
       "    <tr>\n",
       "      <th>679</th>\n",
       "      <td>14.25</td>\n",
       "      <td>Doublade</td>\n",
       "      <td>steel</td>\n",
       "      <td>ghost</td>\n",
       "    </tr>\n",
       "    <tr>\n",
       "      <th>678</th>\n",
       "      <td>14.25</td>\n",
       "      <td>Honedge</td>\n",
       "      <td>steel</td>\n",
       "      <td>ghost</td>\n",
       "    </tr>\n",
       "    <tr>\n",
       "      <th>482</th>\n",
       "      <td>14.25</td>\n",
       "      <td>Dialga</td>\n",
       "      <td>steel</td>\n",
       "      <td>dragon</td>\n",
       "    </tr>\n",
       "    <tr>\n",
       "      <th>394</th>\n",
       "      <td>14.50</td>\n",
       "      <td>Empoleon</td>\n",
       "      <td>water</td>\n",
       "      <td>steel</td>\n",
       "    </tr>\n",
       "  </tbody>\n",
       "</table>\n",
       "</div>"
      ],
      "text/plain": [
       "     against_total        name  type1   type2\n",
       "800          13.25    Magearna  steel   fairy\n",
       "706          13.25      Klefki  steel   fairy\n",
       "302          13.25      Mawile  steel   fairy\n",
       "796          13.50  Celesteela  steel  flying\n",
       "226          13.50    Skarmory  steel  flying\n",
       "680          14.25   Aegislash  steel   ghost\n",
       "679          14.25    Doublade  steel   ghost\n",
       "678          14.25     Honedge  steel   ghost\n",
       "482          14.25      Dialga  steel  dragon\n",
       "394          14.50    Empoleon  water   steel"
      ]
     },
     "execution_count": 38,
     "metadata": {},
     "output_type": "execute_result"
    }
   ],
   "source": [
    "df[['against_total', 'name', 'type1', 'type2']].sort_values(['against_total']).head(10)"
   ]
  },
  {
   "cell_type": "code",
   "execution_count": 39,
   "id": "raised-report",
   "metadata": {},
   "outputs": [
    {
     "data": {
      "text/plain": [
       "<AxesSubplot:xlabel='type_merged'>"
      ]
     },
     "execution_count": 39,
     "metadata": {},
     "output_type": "execute_result"
    },
    {
     "data": {
      "image/png": "[encoded data removed]",
      "text/plain": [
       "<Figure size 432x288 with 1 Axes>"
      ]
     },
     "metadata": {
      "needs_background": "light"
     },
     "output_type": "display_data"
    }
   ],
   "source": [
    "df['type2'] = df['type2'].fillna('None')\n",
    "\n",
    "df['type_merged'] = df['type1'] + \",  \" + df['type2']\n",
    "\n",
    "df[['against_total', 'type_merged']].sort_values(['against_total']) \\\n",
    ".drop_duplicates(['type_merged']).head(10).plot.bar(x='type_merged', y='against_total')"
   ]
  },
  {
   "cell_type": "markdown",
   "id": "worldwide-stable",
   "metadata": {},
   "source": [
    "Berikut adalah ranking kombinasi paling efektif."
   ]
  },
  {
   "cell_type": "markdown",
   "id": "saving-correlation",
   "metadata": {},
   "source": [
    "### Apa pokemon dengan base stat terkuat untuk tiap kategori?"
   ]
  },
  {
   "cell_type": "markdown",
   "id": "correct-worship",
   "metadata": {},
   "source": [
    "Pokemon memiliki beberapa stats yang menjadi indikator kekuatan mereka pada saat bertarung. Stats-stats tersebut antara lain hp, attack, defense, speed, special attack, dan special defense. Sekarang kita akan mencari pokemon dengan nilai stats terbesar untuk tiap-tiap stats."
   ]
  },
  {
   "cell_type": "code",
   "execution_count": 40,
   "id": "religious-murray",
   "metadata": {
    "scrolled": false
   },
   "outputs": [
    {
     "name": "stdout",
     "output_type": "stream",
     "text": [
      "Stats hp: \n"
     ]
    },
    {
     "data": {
      "text/html": [
       "<div>\n",
       "<style scoped>\n",
       "    .dataframe tbody tr th:only-of-type {\n",
       "        vertical-align: middle;\n",
       "    }\n",
       "\n",
       "    .dataframe tbody tr th {\n",
       "        vertical-align: top;\n",
       "    }\n",
       "\n",
       "    .dataframe thead th {\n",
       "        text-align: right;\n",
       "    }\n",
       "</style>\n",
       "<table border=\"1\" class=\"dataframe\">\n",
       "  <thead>\n",
       "    <tr style=\"text-align: right;\">\n",
       "      <th></th>\n",
       "      <th>name</th>\n",
       "      <th>hp</th>\n",
       "    </tr>\n",
       "  </thead>\n",
       "  <tbody>\n",
       "    <tr>\n",
       "      <th>241</th>\n",
       "      <td>Blissey</td>\n",
       "      <td>255</td>\n",
       "    </tr>\n",
       "  </tbody>\n",
       "</table>\n",
       "</div>"
      ],
      "text/plain": [
       "        name   hp\n",
       "241  Blissey  255"
      ]
     },
     "metadata": {},
     "output_type": "display_data"
    },
    {
     "name": "stdout",
     "output_type": "stream",
     "text": [
      "Stats attack: \n"
     ]
    },
    {
     "data": {
      "text/html": [
       "<div>\n",
       "<style scoped>\n",
       "    .dataframe tbody tr th:only-of-type {\n",
       "        vertical-align: middle;\n",
       "    }\n",
       "\n",
       "    .dataframe tbody tr th {\n",
       "        vertical-align: top;\n",
       "    }\n",
       "\n",
       "    .dataframe thead th {\n",
       "        text-align: right;\n",
       "    }\n",
       "</style>\n",
       "<table border=\"1\" class=\"dataframe\">\n",
       "  <thead>\n",
       "    <tr style=\"text-align: right;\">\n",
       "      <th></th>\n",
       "      <th>name</th>\n",
       "      <th>attack</th>\n",
       "    </tr>\n",
       "  </thead>\n",
       "  <tbody>\n",
       "    <tr>\n",
       "      <th>213</th>\n",
       "      <td>Heracross</td>\n",
       "      <td>185</td>\n",
       "    </tr>\n",
       "  </tbody>\n",
       "</table>\n",
       "</div>"
      ],
      "text/plain": [
       "          name  attack\n",
       "213  Heracross     185"
      ]
     },
     "metadata": {},
     "output_type": "display_data"
    },
    {
     "name": "stdout",
     "output_type": "stream",
     "text": [
      "Stats defense: \n"
     ]
    },
    {
     "data": {
      "text/html": [
       "<div>\n",
       "<style scoped>\n",
       "    .dataframe tbody tr th:only-of-type {\n",
       "        vertical-align: middle;\n",
       "    }\n",
       "\n",
       "    .dataframe tbody tr th {\n",
       "        vertical-align: top;\n",
       "    }\n",
       "\n",
       "    .dataframe thead th {\n",
       "        text-align: right;\n",
       "    }\n",
       "</style>\n",
       "<table border=\"1\" class=\"dataframe\">\n",
       "  <thead>\n",
       "    <tr style=\"text-align: right;\">\n",
       "      <th></th>\n",
       "      <th>name</th>\n",
       "      <th>defense</th>\n",
       "    </tr>\n",
       "  </thead>\n",
       "  <tbody>\n",
       "    <tr>\n",
       "      <th>207</th>\n",
       "      <td>Steelix</td>\n",
       "      <td>230</td>\n",
       "    </tr>\n",
       "    <tr>\n",
       "      <th>212</th>\n",
       "      <td>Shuckle</td>\n",
       "      <td>230</td>\n",
       "    </tr>\n",
       "    <tr>\n",
       "      <th>305</th>\n",
       "      <td>Aggron</td>\n",
       "      <td>230</td>\n",
       "    </tr>\n",
       "  </tbody>\n",
       "</table>\n",
       "</div>"
      ],
      "text/plain": [
       "        name  defense\n",
       "207  Steelix      230\n",
       "212  Shuckle      230\n",
       "305   Aggron      230"
      ]
     },
     "metadata": {},
     "output_type": "display_data"
    },
    {
     "name": "stdout",
     "output_type": "stream",
     "text": [
      "Stats speed: \n"
     ]
    },
    {
     "data": {
      "text/html": [
       "<div>\n",
       "<style scoped>\n",
       "    .dataframe tbody tr th:only-of-type {\n",
       "        vertical-align: middle;\n",
       "    }\n",
       "\n",
       "    .dataframe tbody tr th {\n",
       "        vertical-align: top;\n",
       "    }\n",
       "\n",
       "    .dataframe thead th {\n",
       "        text-align: right;\n",
       "    }\n",
       "</style>\n",
       "<table border=\"1\" class=\"dataframe\">\n",
       "  <thead>\n",
       "    <tr style=\"text-align: right;\">\n",
       "      <th></th>\n",
       "      <th>name</th>\n",
       "      <th>speed</th>\n",
       "    </tr>\n",
       "  </thead>\n",
       "  <tbody>\n",
       "    <tr>\n",
       "      <th>385</th>\n",
       "      <td>Deoxys</td>\n",
       "      <td>180</td>\n",
       "    </tr>\n",
       "  </tbody>\n",
       "</table>\n",
       "</div>"
      ],
      "text/plain": [
       "       name  speed\n",
       "385  Deoxys    180"
      ]
     },
     "metadata": {},
     "output_type": "display_data"
    },
    {
     "name": "stdout",
     "output_type": "stream",
     "text": [
      "Stats sp_attack: \n"
     ]
    },
    {
     "data": {
      "text/html": [
       "<div>\n",
       "<style scoped>\n",
       "    .dataframe tbody tr th:only-of-type {\n",
       "        vertical-align: middle;\n",
       "    }\n",
       "\n",
       "    .dataframe tbody tr th {\n",
       "        vertical-align: top;\n",
       "    }\n",
       "\n",
       "    .dataframe thead th {\n",
       "        text-align: right;\n",
       "    }\n",
       "</style>\n",
       "<table border=\"1\" class=\"dataframe\">\n",
       "  <thead>\n",
       "    <tr style=\"text-align: right;\">\n",
       "      <th></th>\n",
       "      <th>name</th>\n",
       "      <th>sp_attack</th>\n",
       "    </tr>\n",
       "  </thead>\n",
       "  <tbody>\n",
       "    <tr>\n",
       "      <th>149</th>\n",
       "      <td>Mewtwo</td>\n",
       "      <td>194</td>\n",
       "    </tr>\n",
       "  </tbody>\n",
       "</table>\n",
       "</div>"
      ],
      "text/plain": [
       "       name  sp_attack\n",
       "149  Mewtwo        194"
      ]
     },
     "metadata": {},
     "output_type": "display_data"
    },
    {
     "name": "stdout",
     "output_type": "stream",
     "text": [
      "Stats sp_defense: \n"
     ]
    },
    {
     "data": {
      "text/html": [
       "<div>\n",
       "<style scoped>\n",
       "    .dataframe tbody tr th:only-of-type {\n",
       "        vertical-align: middle;\n",
       "    }\n",
       "\n",
       "    .dataframe tbody tr th {\n",
       "        vertical-align: top;\n",
       "    }\n",
       "\n",
       "    .dataframe thead th {\n",
       "        text-align: right;\n",
       "    }\n",
       "</style>\n",
       "<table border=\"1\" class=\"dataframe\">\n",
       "  <thead>\n",
       "    <tr style=\"text-align: right;\">\n",
       "      <th></th>\n",
       "      <th>name</th>\n",
       "      <th>sp_defense</th>\n",
       "    </tr>\n",
       "  </thead>\n",
       "  <tbody>\n",
       "    <tr>\n",
       "      <th>212</th>\n",
       "      <td>Shuckle</td>\n",
       "      <td>230</td>\n",
       "    </tr>\n",
       "  </tbody>\n",
       "</table>\n",
       "</div>"
      ],
      "text/plain": [
       "        name  sp_defense\n",
       "212  Shuckle         230"
      ]
     },
     "metadata": {},
     "output_type": "display_data"
    }
   ],
   "source": [
    "stats = ['hp', 'attack', 'defense', 'speed', 'sp_attack', 'sp_defense']\n",
    "for stat in stats:\n",
    "    print(\"Stats {0}: \".format(stat))\n",
    "    display(df[df[stat] == df[stat].max()][['name', stat]])"
   ]
  },
  {
   "cell_type": "markdown",
   "id": "hollywood-collect",
   "metadata": {},
   "source": [
    "Telah didapat beberapa pokemon yang mewakili stats terbesar untuk tiap jenis stats. Untuk mendapat gambaran yang lebih jelas, tiap stats ini dapat dicari rata-ratanya lalu divisualisasikan dengan bar plot."
   ]
  },
  {
   "cell_type": "code",
   "execution_count": 41,
   "id": "colonial-wheat",
   "metadata": {},
   "outputs": [
    {
     "data": {
      "text/plain": [
       "<AxesSubplot:>"
      ]
     },
     "execution_count": 41,
     "metadata": {},
     "output_type": "execute_result"
    },
    {
     "data": {
      "image/png": "[encoded data removed]",
      "text/plain": [
       "<Figure size 432x288 with 1 Axes>"
      ]
     },
     "metadata": {
      "needs_background": "light"
     },
     "output_type": "display_data"
    }
   ],
   "source": [
    "sns.barplot(data=df[stats])"
   ]
  },
  {
   "cell_type": "markdown",
   "id": "controlling-minister",
   "metadata": {},
   "source": [
    "Rata-rata setiap stats berada pada kisaran nilai 70 hingga 80. Pokemon yang mewakili stats terbesar memiliki stats yang hampir dua kali lipat dari rata-rata stats tiap kategorinya."
   ]
  },
  {
   "cell_type": "markdown",
   "id": "rural-chile",
   "metadata": {},
   "source": [
    "### Apa pokemon yang paling terkuat dan terlemah?"
   ]
  },
  {
   "cell_type": "markdown",
   "id": "relevant-surveillance",
   "metadata": {},
   "source": [
    "Untuk menjawab pertanyaan ini, ada beberapa hal yang dapat dipertimbangkan, seperti jumlah statsnya, ability pokemon tersebut, kombinasi serangan yang dapat dipelajari, kombinasi elemen, dan masih banyak lagi. Namun disini saya akan pendekatan yang lebih mudah, yaitu menjumlahkan semua _base stats_-nya lalu mengambil nilai yang paling besar dan paling kecil."
   ]
  },
  {
   "cell_type": "code",
   "execution_count": 42,
   "id": "satisfied-buffer",
   "metadata": {
    "scrolled": true
   },
   "outputs": [
    {
     "data": {
      "text/plain": [
       "count    801.000000\n",
       "mean     428.377029\n",
       "std      119.203577\n",
       "min      180.000000\n",
       "25%      320.000000\n",
       "50%      435.000000\n",
       "75%      505.000000\n",
       "max      780.000000\n",
       "Name: stats_total, dtype: float64"
      ]
     },
     "execution_count": 42,
     "metadata": {},
     "output_type": "execute_result"
    }
   ],
   "source": [
    "df['stats_total'] = df[stats].sum(axis=1)\n",
    "\n",
    "df['stats_total'].describe()"
   ]
  },
  {
   "cell_type": "code",
   "execution_count": 43,
   "id": "suspended-porcelain",
   "metadata": {},
   "outputs": [
    {
     "name": "stdout",
     "output_type": "stream",
     "text": [
      "Pokemon dengan base stats total paling besar: \n"
     ]
    },
    {
     "data": {
      "text/html": [
       "<div>\n",
       "<style scoped>\n",
       "    .dataframe tbody tr th:only-of-type {\n",
       "        vertical-align: middle;\n",
       "    }\n",
       "\n",
       "    .dataframe tbody tr th {\n",
       "        vertical-align: top;\n",
       "    }\n",
       "\n",
       "    .dataframe thead th {\n",
       "        text-align: right;\n",
       "    }\n",
       "</style>\n",
       "<table border=\"1\" class=\"dataframe\">\n",
       "  <thead>\n",
       "    <tr style=\"text-align: right;\">\n",
       "      <th></th>\n",
       "      <th>name</th>\n",
       "      <th>stats_total</th>\n",
       "    </tr>\n",
       "  </thead>\n",
       "  <tbody>\n",
       "    <tr>\n",
       "      <th>149</th>\n",
       "      <td>Mewtwo</td>\n",
       "      <td>780</td>\n",
       "    </tr>\n",
       "    <tr>\n",
       "      <th>383</th>\n",
       "      <td>Rayquaza</td>\n",
       "      <td>780</td>\n",
       "    </tr>\n",
       "  </tbody>\n",
       "</table>\n",
       "</div>"
      ],
      "text/plain": [
       "         name  stats_total\n",
       "149    Mewtwo          780\n",
       "383  Rayquaza          780"
      ]
     },
     "metadata": {},
     "output_type": "display_data"
    },
    {
     "name": "stdout",
     "output_type": "stream",
     "text": [
      "Pokemon dengan base stats total paling kecil: \n"
     ]
    },
    {
     "data": {
      "text/html": [
       "<div>\n",
       "<style scoped>\n",
       "    .dataframe tbody tr th:only-of-type {\n",
       "        vertical-align: middle;\n",
       "    }\n",
       "\n",
       "    .dataframe tbody tr th {\n",
       "        vertical-align: top;\n",
       "    }\n",
       "\n",
       "    .dataframe thead th {\n",
       "        text-align: right;\n",
       "    }\n",
       "</style>\n",
       "<table border=\"1\" class=\"dataframe\">\n",
       "  <thead>\n",
       "    <tr style=\"text-align: right;\">\n",
       "      <th></th>\n",
       "      <th>name</th>\n",
       "      <th>stats_total</th>\n",
       "    </tr>\n",
       "  </thead>\n",
       "  <tbody>\n",
       "    <tr>\n",
       "      <th>190</th>\n",
       "      <td>Sunkern</td>\n",
       "      <td>180</td>\n",
       "    </tr>\n",
       "  </tbody>\n",
       "</table>\n",
       "</div>"
      ],
      "text/plain": [
       "        name  stats_total\n",
       "190  Sunkern          180"
      ]
     },
     "metadata": {},
     "output_type": "display_data"
    }
   ],
   "source": [
    "print(\"Pokemon dengan base stats total paling besar: \")\n",
    "display(df[df['stats_total'] == df['stats_total'].max()][['name', 'stats_total']])\n",
    "print(\"Pokemon dengan base stats total paling kecil: \")\n",
    "display(df[df['stats_total'] == df['stats_total'].min()][['name', 'stats_total']])"
   ]
  },
  {
   "cell_type": "markdown",
   "id": "appointed-anthropology",
   "metadata": {},
   "source": [
    "Mewtwo dan Rayquaza adalah dua pokemon yang memiliki base stats total paling besar, yaitu sebesar 780 sementara Sunkern memiliki base stats paling kecil yaitu 180."
   ]
  },
  {
   "cell_type": "markdown",
   "id": "distributed-requirement",
   "metadata": {},
   "source": [
    "Namun mengingat Mewtwo dan Rayquaza ini merupakan pokemon legendaris yang tentunya memiliki hal \"spesial\" sehingga mereka dapat dikategorikan sebagai legendaris, lalu bagaimana pada pokemon nonlegendaris? Dataset \"df_nonlegendary\" sebelumnya dapat digunakan ulang untuk mencari tahu."
   ]
  },
  {
   "cell_type": "code",
   "execution_count": 44,
   "id": "imposed-network",
   "metadata": {},
   "outputs": [
    {
     "name": "stdout",
     "output_type": "stream",
     "text": [
      "Pokemon nonlegendaris dengan base stats total paling besar: \n"
     ]
    },
    {
     "data": {
      "text/html": [
       "<div>\n",
       "<style scoped>\n",
       "    .dataframe tbody tr th:only-of-type {\n",
       "        vertical-align: middle;\n",
       "    }\n",
       "\n",
       "    .dataframe tbody tr th {\n",
       "        vertical-align: top;\n",
       "    }\n",
       "\n",
       "    .dataframe thead th {\n",
       "        text-align: right;\n",
       "    }\n",
       "</style>\n",
       "<table border=\"1\" class=\"dataframe\">\n",
       "  <thead>\n",
       "    <tr style=\"text-align: right;\">\n",
       "      <th></th>\n",
       "      <th>name</th>\n",
       "      <th>stats_total</th>\n",
       "    </tr>\n",
       "  </thead>\n",
       "  <tbody>\n",
       "    <tr>\n",
       "      <th>247</th>\n",
       "      <td>Tyranitar</td>\n",
       "      <td>700</td>\n",
       "    </tr>\n",
       "    <tr>\n",
       "      <th>372</th>\n",
       "      <td>Salamence</td>\n",
       "      <td>700</td>\n",
       "    </tr>\n",
       "    <tr>\n",
       "      <th>375</th>\n",
       "      <td>Metagross</td>\n",
       "      <td>700</td>\n",
       "    </tr>\n",
       "    <tr>\n",
       "      <th>444</th>\n",
       "      <td>Garchomp</td>\n",
       "      <td>700</td>\n",
       "    </tr>\n",
       "  </tbody>\n",
       "</table>\n",
       "</div>"
      ],
      "text/plain": [
       "          name  stats_total\n",
       "247  Tyranitar          700\n",
       "372  Salamence          700\n",
       "375  Metagross          700\n",
       "444   Garchomp          700"
      ]
     },
     "metadata": {},
     "output_type": "display_data"
    }
   ],
   "source": [
    "df_nonlegendary['stats_total'] = df_nonlegendary[stats].sum(axis=1)\n",
    "\n",
    "print(\"Pokemon nonlegendaris dengan base stats total paling besar: \")\n",
    "display(df_nonlegendary[df_nonlegendary['stats_total'] == df_nonlegendary['stats_total'].max()][['name', 'stats_total']])"
   ]
  },
  {
   "cell_type": "markdown",
   "id": "curious-transfer",
   "metadata": {},
   "source": [
    "Pokemon nonlegendaris yang memiliki total base stats yang paling besar ialah Tyranitar, Salamence, Metagross, dan Garchomp. Keempat pokemon ini memiliki total stats sebesar 700. <br>\n",
    "\n",
    "Untuk mendapat gambaran yang lebih jelas, distribusi dari total base stats dapat dilihat pada output di bawah ini."
   ]
  },
  {
   "cell_type": "code",
   "execution_count": 45,
   "id": "expensive-facial",
   "metadata": {},
   "outputs": [
    {
     "data": {
      "text/plain": [
       "<AxesSubplot:xlabel='stats_total', ylabel='Count'>"
      ]
     },
     "execution_count": 45,
     "metadata": {},
     "output_type": "execute_result"
    },
    {
     "data": {
      "image/png": "[encoded data removed]",
      "text/plain": [
       "<Figure size 432x288 with 1 Axes>"
      ]
     },
     "metadata": {
      "needs_background": "light"
     },
     "output_type": "display_data"
    }
   ],
   "source": [
    "sns.histplot(data=df['stats_total'])"
   ]
  },
  {
   "cell_type": "markdown",
   "id": "hollywood-travel",
   "metadata": {},
   "source": [
    "### Apa pokemon paling kuat untuk tiap generasi?"
   ]
  },
  {
   "cell_type": "code",
   "execution_count": 46,
   "id": "metallic-lying",
   "metadata": {},
   "outputs": [
    {
     "name": "stdout",
     "output_type": "stream",
     "text": [
      "Pokemon terkuat pada tiap generasi: \n"
     ]
    },
    {
     "data": {
      "text/html": [
       "<div>\n",
       "<style scoped>\n",
       "    .dataframe tbody tr th:only-of-type {\n",
       "        vertical-align: middle;\n",
       "    }\n",
       "\n",
       "    .dataframe tbody tr th {\n",
       "        vertical-align: top;\n",
       "    }\n",
       "\n",
       "    .dataframe thead th {\n",
       "        text-align: right;\n",
       "    }\n",
       "</style>\n",
       "<table border=\"1\" class=\"dataframe\">\n",
       "  <thead>\n",
       "    <tr style=\"text-align: right;\">\n",
       "      <th></th>\n",
       "      <th>name</th>\n",
       "      <th>stats_total</th>\n",
       "      <th>generation</th>\n",
       "    </tr>\n",
       "  </thead>\n",
       "  <tbody>\n",
       "    <tr>\n",
       "      <th>149</th>\n",
       "      <td>Mewtwo</td>\n",
       "      <td>780</td>\n",
       "      <td>1</td>\n",
       "    </tr>\n",
       "    <tr>\n",
       "      <th>247</th>\n",
       "      <td>Tyranitar</td>\n",
       "      <td>700</td>\n",
       "      <td>2</td>\n",
       "    </tr>\n",
       "    <tr>\n",
       "      <th>383</th>\n",
       "      <td>Rayquaza</td>\n",
       "      <td>780</td>\n",
       "      <td>3</td>\n",
       "    </tr>\n",
       "    <tr>\n",
       "      <th>492</th>\n",
       "      <td>Arceus</td>\n",
       "      <td>720</td>\n",
       "      <td>4</td>\n",
       "    </tr>\n",
       "    <tr>\n",
       "      <th>645</th>\n",
       "      <td>Kyurem</td>\n",
       "      <td>700</td>\n",
       "      <td>5</td>\n",
       "    </tr>\n",
       "    <tr>\n",
       "      <th>717</th>\n",
       "      <td>Zygarde</td>\n",
       "      <td>708</td>\n",
       "      <td>6</td>\n",
       "    </tr>\n",
       "    <tr>\n",
       "      <th>790</th>\n",
       "      <td>Solgaleo</td>\n",
       "      <td>680</td>\n",
       "      <td>7</td>\n",
       "    </tr>\n",
       "    <tr>\n",
       "      <th>791</th>\n",
       "      <td>Lunala</td>\n",
       "      <td>680</td>\n",
       "      <td>7</td>\n",
       "    </tr>\n",
       "  </tbody>\n",
       "</table>\n",
       "</div>"
      ],
      "text/plain": [
       "          name  stats_total  generation\n",
       "149     Mewtwo          780           1\n",
       "247  Tyranitar          700           2\n",
       "383   Rayquaza          780           3\n",
       "492     Arceus          720           4\n",
       "645     Kyurem          700           5\n",
       "717    Zygarde          708           6\n",
       "790   Solgaleo          680           7\n",
       "791     Lunala          680           7"
      ]
     },
     "execution_count": 46,
     "metadata": {},
     "output_type": "execute_result"
    }
   ],
   "source": [
    "strongest = []\n",
    "for i in range(1, 8):\n",
    "    df_by_generation = df[df['generation'] == i]\n",
    "    strongest.append(df_by_generation[df_by_generation['stats_total'] == df_by_generation['stats_total'].max()][['name', 'stats_total', 'generation']])\n",
    "    \n",
    "print(\"Pokemon terkuat pada tiap generasi: \")\n",
    "pd.concat(strongest, axis=0)"
   ]
  },
  {
   "cell_type": "code",
   "execution_count": 47,
   "id": "indirect-affairs",
   "metadata": {},
   "outputs": [
    {
     "name": "stdout",
     "output_type": "stream",
     "text": [
      "Pokemon nonlegendaris terkuat pada tiap generasi: \n"
     ]
    },
    {
     "data": {
      "text/html": [
       "<div>\n",
       "<style scoped>\n",
       "    .dataframe tbody tr th:only-of-type {\n",
       "        vertical-align: middle;\n",
       "    }\n",
       "\n",
       "    .dataframe tbody tr th {\n",
       "        vertical-align: top;\n",
       "    }\n",
       "\n",
       "    .dataframe thead th {\n",
       "        text-align: right;\n",
       "    }\n",
       "</style>\n",
       "<table border=\"1\" class=\"dataframe\">\n",
       "  <thead>\n",
       "    <tr style=\"text-align: right;\">\n",
       "      <th></th>\n",
       "      <th>name</th>\n",
       "      <th>stats_total</th>\n",
       "      <th>generation</th>\n",
       "    </tr>\n",
       "  </thead>\n",
       "  <tbody>\n",
       "    <tr>\n",
       "      <th>129</th>\n",
       "      <td>Gyarados</td>\n",
       "      <td>640</td>\n",
       "      <td>1</td>\n",
       "    </tr>\n",
       "    <tr>\n",
       "      <th>247</th>\n",
       "      <td>Tyranitar</td>\n",
       "      <td>700</td>\n",
       "      <td>2</td>\n",
       "    </tr>\n",
       "    <tr>\n",
       "      <th>372</th>\n",
       "      <td>Salamence</td>\n",
       "      <td>700</td>\n",
       "      <td>3</td>\n",
       "    </tr>\n",
       "    <tr>\n",
       "      <th>375</th>\n",
       "      <td>Metagross</td>\n",
       "      <td>700</td>\n",
       "      <td>3</td>\n",
       "    </tr>\n",
       "    <tr>\n",
       "      <th>444</th>\n",
       "      <td>Garchomp</td>\n",
       "      <td>700</td>\n",
       "      <td>4</td>\n",
       "    </tr>\n",
       "    <tr>\n",
       "      <th>634</th>\n",
       "      <td>Hydreigon</td>\n",
       "      <td>600</td>\n",
       "      <td>5</td>\n",
       "    </tr>\n",
       "    <tr>\n",
       "      <th>657</th>\n",
       "      <td>Greninja</td>\n",
       "      <td>640</td>\n",
       "      <td>6</td>\n",
       "    </tr>\n",
       "    <tr>\n",
       "      <th>745</th>\n",
       "      <td>Wishiwashi</td>\n",
       "      <td>620</td>\n",
       "      <td>7</td>\n",
       "    </tr>\n",
       "  </tbody>\n",
       "</table>\n",
       "</div>"
      ],
      "text/plain": [
       "           name  stats_total  generation\n",
       "129    Gyarados          640           1\n",
       "247   Tyranitar          700           2\n",
       "372   Salamence          700           3\n",
       "375   Metagross          700           3\n",
       "444    Garchomp          700           4\n",
       "634   Hydreigon          600           5\n",
       "657    Greninja          640           6\n",
       "745  Wishiwashi          620           7"
      ]
     },
     "execution_count": 47,
     "metadata": {},
     "output_type": "execute_result"
    }
   ],
   "source": [
    "strongest = []\n",
    "for i in range(1, 8):\n",
    "    df_by_generation = df_nonlegendary[df_nonlegendary['generation'] == i]\n",
    "    strongest.append(df_by_generation[df_by_generation['stats_total'] == df_by_generation['stats_total'].max()][['name', 'stats_total', 'generation']])\n",
    "\n",
    "print(\"Pokemon nonlegendaris terkuat pada tiap generasi: \")\n",
    "pd.concat(strongest, axis=0)"
   ]
  },
  {
   "cell_type": "markdown",
   "id": "broken-indianapolis",
   "metadata": {},
   "source": [
    "Berikut persebaran total stats pada tiap generasi:"
   ]
  },
  {
   "cell_type": "code",
   "execution_count": 48,
   "id": "large-directory",
   "metadata": {},
   "outputs": [
    {
     "data": {
      "text/plain": [
       "<AxesSubplot:xlabel='generation', ylabel='stats_total'>"
      ]
     },
     "execution_count": 48,
     "metadata": {},
     "output_type": "execute_result"
    },
    {
     "data": {
      "image/png": "[encoded data removed]",
      "text/plain": [
       "<Figure size 432x288 with 1 Axes>"
      ]
     },
     "metadata": {
      "needs_background": "light"
     },
     "output_type": "display_data"
    }
   ],
   "source": [
    "sns.barplot(data=df, x='generation', y='stats_total')"
   ]
  },
  {
   "cell_type": "markdown",
   "id": "tender-spirituality",
   "metadata": {},
   "source": [
    "### Apa ability yang paling umum?"
   ]
  },
  {
   "cell_type": "markdown",
   "id": "young-shanghai",
   "metadata": {},
   "source": [
    "Untuk menjawab pertanyaan ini diperlukan beberapa proses _cleaning_ / pembersihan pada data karena data ability yang tersedia tidak dapat divisualisasikan secara langsung karena bentuk datanya yang tidak beraturan."
   ]
  },
  {
   "cell_type": "code",
   "execution_count": 49,
   "id": "material-calibration",
   "metadata": {},
   "outputs": [
    {
     "name": "stdout",
     "output_type": "stream",
     "text": [
      "Banyaknya data ability: \n",
      "482\n",
      "Sample data ability: \n",
      "[\"['Overgrow', 'Chlorophyll']\" \"['Blaze', 'Solar Power']\"\n",
      " \"['Torrent', 'Rain Dish']\" \"['Shield Dust', 'Run Away']\" \"['Shed Skin']\"\n",
      " \"['Compoundeyes', 'Tinted Lens']\" \"['Swarm', 'Sniper']\"\n",
      " \"['Keen Eye', 'Tangled Feet', 'Big Pecks']\"\n",
      " \"['Run Away', 'Guts', 'Hustle', 'Gluttony', 'Hustle', 'Thick Fat']\"]\n"
     ]
    }
   ],
   "source": [
    "print(\"Banyaknya data ability: \")\n",
    "print(len(df['abilities'].unique()))\n",
    "print(\"Sample data ability: \")\n",
    "print(df['abilities'].head(20).unique())"
   ]
  },
  {
   "cell_type": "code",
   "execution_count": 50,
   "id": "acting-blame",
   "metadata": {},
   "outputs": [],
   "source": [
    "from collections import Counter\n",
    "\n",
    "def cleanArrayLikeString(string):\n",
    "    return string.strip(\"[]\").replace(\"'\", \"\").split(', ')\n",
    "\n",
    "cleaned_text = []\n",
    "\n",
    "for ability in df['abilities']:\n",
    "    cleaned_text.extend(cleanArrayLikeString(ability))\n",
    "    \n",
    "cleaned_ability = Counter(cleaned_text)"
   ]
  },
  {
   "cell_type": "code",
   "execution_count": 51,
   "id": "virtual-brave",
   "metadata": {},
   "outputs": [
    {
     "data": {
      "text/plain": [
       "(-0.5, 599.5, 399.5, -0.5)"
      ]
     },
     "execution_count": 51,
     "metadata": {},
     "output_type": "execute_result"
    },
    {
     "data": {
      "image/png": "[encoded data removed]",
      "text/plain": [
       "<Figure size 720x504 with 1 Axes>"
      ]
     },
     "metadata": {
      "needs_background": "light"
     },
     "output_type": "display_data"
    }
   ],
   "source": [
    "from wordcloud import WordCloud\n",
    "\n",
    "plt.figure(figsize=(10, 7))\n",
    "plt.imshow(WordCloud(width=600, height=400, background_color=\"white\")\n",
    "           .generate_from_frequencies(cleaned_ability))\n",
    "plt.axis(\"off\")"
   ]
  },
  {
   "cell_type": "code",
   "execution_count": 52,
   "id": "soviet-forty",
   "metadata": {},
   "outputs": [
    {
     "data": {
      "text/plain": [
       "<AxesSubplot:>"
      ]
     },
     "execution_count": 52,
     "metadata": {},
     "output_type": "execute_result"
    },
    {
     "data": {
      "image/png": "[encoded data removed]",
      "text/plain": [
       "<Figure size 432x288 with 1 Axes>"
      ]
     },
     "metadata": {
      "needs_background": "light"
     },
     "output_type": "display_data"
    }
   ],
   "source": [
    "pd.Series(cleaned_ability).sort_values(ascending=False).head(10).plot.bar()"
   ]
  }
 ],
 "metadata": {
  "kernelspec": {
   "display_name": "Python 3",
   "language": "python",
   "name": "python3"
  },
  "language_info": {
   "codemirror_mode": {
    "name": "ipython",
    "version": 3
   },
   "file_extension": ".py",
   "mimetype": "text/x-python",
   "name": "python",
   "nbconvert_exporter": "python",
   "pygments_lexer": "ipython3",
   "version": "3.9.1"
  }
 },
 "nbformat": 4,
 "nbformat_minor": 5
}
